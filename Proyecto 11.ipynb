{
 "cells": [
  {
   "cell_type": "markdown",
   "metadata": {},
   "source": [
    "¡Hola Gerardo! Como te va? Espero que todo bien.\n",
    "\n",
    "Mi nombre es Emanuel Fitta! Un gusto conocerte, seré tu revisor en este proyecto.\n",
    "\n",
    "A continuación un poco sobre la modalidad de revisión que usaremos:\n",
    "\n",
    "Cuando enccuentro un error por primera vez, simplemente lo señalaré, te dejaré encontrarlo y arreglarlo tú cuenta. Además, a lo largo del texto iré haciendo algunas observaciones sobre mejora en tu código y también haré comentarios sobre tus percepciones sobre el tema. Pero si aún no puedes realizar esta tarea, te daré una pista más precisa en la próxima iteración y también algunos ejemplos prácticos. Estaré abierto a comentarios y discusiones sobre el tema.\n",
    "\n",
    "Encontrará mis comentarios a continuación: **no los mueva, modifique ni elimine**.\n",
    "\n",
    "Puedes encontrar mis comentarios en cuadros verdes, amarillos o rojos como este:\n",
    "\n",
    "<div class=\"alert alert-block alert-success\">\n",
    "<b>Comentario del revisor.</b> <a class=\"tocSkip\"></a>\n",
    "\n",
    "Exito. Todo se ha hecho de forma exitosa.\n",
    "</div>\n",
    "\n",
    "<div class=\"alert alert-block alert-warning\">\n",
    "<b>Comentario del revisor.</b> <a class=\"tocSkip\"></a>\n",
    "\n",
    "Observación. Algunas recomendaciones.\n",
    "</div>\n",
    "\n",
    "<div class=\"alert alert-block alert-danger\">\n",
    "\n",
    "<b>Comentario del revisor.</b> <a class=\"tocSkip\"></a>\n",
    "\n",
    "Necesita arreglos. Este apartado necesita algunas correcciones. El trabajo no puede ser aceptado con comentarios rojos. \n",
    "</div>\n",
    "\n",
    "Puedes responder utilizando esto:\n",
    "\n",
    "<div class=\"alert alert-block alert-info\">\n",
    "<b>Respuesta de estudiante.</b> <a class=\"tocSkip\"></a>\n",
    "</div>"
   ]
  },
  {
   "cell_type": "code",
   "execution_count": null,
   "metadata": {},
   "outputs": [],
   "source": []
  },
  {
   "cell_type": "code",
   "execution_count": null,
   "metadata": {},
   "outputs": [],
   "source": []
  },
  {
   "cell_type": "code",
   "execution_count": null,
   "metadata": {},
   "outputs": [],
   "source": []
  },
  {
   "cell_type": "code",
   "execution_count": null,
   "metadata": {},
   "outputs": [],
   "source": []
  },
  {
   "cell_type": "markdown",
   "metadata": {},
   "source": [
    "<div class=\"alert alert-block alert-success\">\n",
    "<b>Comentario del revisor. (Iteración 3) </b> <a class=\"tocSkip\"></a>\n",
    "\n",
    "Muy bien Gerardo, pues no me queda más que desearte mucho éxito en tu carrera, que estoy seguro será brillante! Bien hecho! Buen trabajo!"
   ]
  },
  {
   "cell_type": "markdown",
   "metadata": {},
   "source": [
    "<div class=\"alert alert-block alert-warning\">\n",
    "<b>Comentario del revisor. (Iteración 2) </b> <a class=\"tocSkip\"></a>\n",
    "\n",
    "Muy bien Gerardo, veo que lograste atender los comentarios y sugerencias, sin embargo, vi que tuviste problemas en un par de puntos, estos los deje marcados en rojo. Intenta corregirlos y si te sigues atorando, no dudes en escribirme y con gusto te apoyo en futuras iteraciones."
   ]
  },
  {
   "cell_type": "markdown",
   "metadata": {},
   "source": [
    "<div class=\"alert alert-block alert-warning\">\n",
    "<b>Comentario del revisor. (Iteración 1) </b> <a class=\"tocSkip\"></a>\n",
    "\n",
    "Pues nada Gerardo, quiero reconocer el trabajo que pusiste en este proyecto, realmente se nota el gran esfuerzo e interes puesto en el. Hay un par de detalles, veo que no colocaste tu EDA previo al modelo, recuerda que esta, es parte fundamental de un proyecto de DS. Además en la parte de bootstrap, veo que no está del todo explicado lo que vas obteniendo, así como también hacen falta algunos gráficos que faciliten la visualización de tus resultados. Creo que son puntos que podríamos mejorar para robustecer tu proyecto ¿Te parece si lo intentas?\n",
    "\n",
    "Deseo que tengas un gran gran día! Mucho éxito! "
   ]
  },
  {
   "cell_type": "markdown",
   "metadata": {},
   "source": [
    "## Importación de librerias"
   ]
  },
  {
   "cell_type": "code",
   "execution_count": 1,
   "metadata": {},
   "outputs": [],
   "source": [
    "import pandas as pd\n",
    "import numpy as np\n",
    "from sklearn.linear_model import LinearRegression\n",
    "from sklearn.model_selection import train_test_split\n",
    "from sklearn.metrics import mean_squared_error\n",
    "import matplotlib.pyplot as plt\n"
   ]
  },
  {
   "cell_type": "markdown",
   "metadata": {},
   "source": [
    "## Importación de base de datos"
   ]
  },
  {
   "cell_type": "markdown",
   "metadata": {},
   "source": [
    "### geo_data_0"
   ]
  },
  {
   "cell_type": "code",
   "execution_count": 2,
   "metadata": {},
   "outputs": [],
   "source": [
    "geo_data_0 = pd.read_csv('/datasets/geo_data_0.csv')"
   ]
  },
  {
   "cell_type": "code",
   "execution_count": 3,
   "metadata": {
    "scrolled": true
   },
   "outputs": [
    {
     "name": "stdout",
     "output_type": "stream",
     "text": [
      "<class 'pandas.core.frame.DataFrame'>\n",
      "RangeIndex: 100000 entries, 0 to 99999\n",
      "Data columns (total 5 columns):\n",
      " #   Column   Non-Null Count   Dtype  \n",
      "---  ------   --------------   -----  \n",
      " 0   id       100000 non-null  object \n",
      " 1   f0       100000 non-null  float64\n",
      " 2   f1       100000 non-null  float64\n",
      " 3   f2       100000 non-null  float64\n",
      " 4   product  100000 non-null  float64\n",
      "dtypes: float64(4), object(1)\n",
      "memory usage: 3.8+ MB\n"
     ]
    }
   ],
   "source": [
    "geo_data_0.info()"
   ]
  },
  {
   "cell_type": "markdown",
   "metadata": {},
   "source": [
    "Podemos observar una base de datos completamente llena, la cual no tiene valores nulos, son 100,000 filas este ds maneja dos tipos de datos object y float los cuales tiene sentido ya que ID maneja letras y los demas parece ser cordenadas las cuales contienen valores decimales como product el cual tambien maneja valores decimales"
   ]
  },
  {
   "cell_type": "code",
   "execution_count": 4,
   "metadata": {
    "scrolled": true
   },
   "outputs": [
    {
     "data": {
      "text/html": [
       "<div>\n",
       "<style scoped>\n",
       "    .dataframe tbody tr th:only-of-type {\n",
       "        vertical-align: middle;\n",
       "    }\n",
       "\n",
       "    .dataframe tbody tr th {\n",
       "        vertical-align: top;\n",
       "    }\n",
       "\n",
       "    .dataframe thead th {\n",
       "        text-align: right;\n",
       "    }\n",
       "</style>\n",
       "<table border=\"1\" class=\"dataframe\">\n",
       "  <thead>\n",
       "    <tr style=\"text-align: right;\">\n",
       "      <th></th>\n",
       "      <th>f0</th>\n",
       "      <th>f1</th>\n",
       "      <th>f2</th>\n",
       "      <th>product</th>\n",
       "    </tr>\n",
       "  </thead>\n",
       "  <tbody>\n",
       "    <tr>\n",
       "      <th>count</th>\n",
       "      <td>100000.000000</td>\n",
       "      <td>100000.000000</td>\n",
       "      <td>100000.000000</td>\n",
       "      <td>100000.000000</td>\n",
       "    </tr>\n",
       "    <tr>\n",
       "      <th>mean</th>\n",
       "      <td>0.500419</td>\n",
       "      <td>0.250143</td>\n",
       "      <td>2.502647</td>\n",
       "      <td>92.500000</td>\n",
       "    </tr>\n",
       "    <tr>\n",
       "      <th>std</th>\n",
       "      <td>0.871832</td>\n",
       "      <td>0.504433</td>\n",
       "      <td>3.248248</td>\n",
       "      <td>44.288691</td>\n",
       "    </tr>\n",
       "    <tr>\n",
       "      <th>min</th>\n",
       "      <td>-1.408605</td>\n",
       "      <td>-0.848218</td>\n",
       "      <td>-12.088328</td>\n",
       "      <td>0.000000</td>\n",
       "    </tr>\n",
       "    <tr>\n",
       "      <th>25%</th>\n",
       "      <td>-0.072580</td>\n",
       "      <td>-0.200881</td>\n",
       "      <td>0.287748</td>\n",
       "      <td>56.497507</td>\n",
       "    </tr>\n",
       "    <tr>\n",
       "      <th>50%</th>\n",
       "      <td>0.502360</td>\n",
       "      <td>0.250252</td>\n",
       "      <td>2.515969</td>\n",
       "      <td>91.849972</td>\n",
       "    </tr>\n",
       "    <tr>\n",
       "      <th>75%</th>\n",
       "      <td>1.073581</td>\n",
       "      <td>0.700646</td>\n",
       "      <td>4.715088</td>\n",
       "      <td>128.564089</td>\n",
       "    </tr>\n",
       "    <tr>\n",
       "      <th>max</th>\n",
       "      <td>2.362331</td>\n",
       "      <td>1.343769</td>\n",
       "      <td>16.003790</td>\n",
       "      <td>185.364347</td>\n",
       "    </tr>\n",
       "  </tbody>\n",
       "</table>\n",
       "</div>"
      ],
      "text/plain": [
       "                  f0             f1             f2        product\n",
       "count  100000.000000  100000.000000  100000.000000  100000.000000\n",
       "mean        0.500419       0.250143       2.502647      92.500000\n",
       "std         0.871832       0.504433       3.248248      44.288691\n",
       "min        -1.408605      -0.848218     -12.088328       0.000000\n",
       "25%        -0.072580      -0.200881       0.287748      56.497507\n",
       "50%         0.502360       0.250252       2.515969      91.849972\n",
       "75%         1.073581       0.700646       4.715088     128.564089\n",
       "max         2.362331       1.343769      16.003790     185.364347"
      ]
     },
     "execution_count": 4,
     "metadata": {},
     "output_type": "execute_result"
    }
   ],
   "source": [
    "geo_data_0.describe()"
   ]
  },
  {
   "cell_type": "markdown",
   "metadata": {},
   "source": [
    "Podemos observar valores maximos y minimos de 0 hasta 185 los cuales se mantienen dentro de un rango normal."
   ]
  },
  {
   "cell_type": "code",
   "execution_count": 5,
   "metadata": {},
   "outputs": [
    {
     "data": {
      "text/html": [
       "<div>\n",
       "<style scoped>\n",
       "    .dataframe tbody tr th:only-of-type {\n",
       "        vertical-align: middle;\n",
       "    }\n",
       "\n",
       "    .dataframe tbody tr th {\n",
       "        vertical-align: top;\n",
       "    }\n",
       "\n",
       "    .dataframe thead th {\n",
       "        text-align: right;\n",
       "    }\n",
       "</style>\n",
       "<table border=\"1\" class=\"dataframe\">\n",
       "  <thead>\n",
       "    <tr style=\"text-align: right;\">\n",
       "      <th></th>\n",
       "      <th>id</th>\n",
       "      <th>f0</th>\n",
       "      <th>f1</th>\n",
       "      <th>f2</th>\n",
       "      <th>product</th>\n",
       "    </tr>\n",
       "  </thead>\n",
       "  <tbody>\n",
       "    <tr>\n",
       "      <th>0</th>\n",
       "      <td>txEyH</td>\n",
       "      <td>0.705745</td>\n",
       "      <td>-0.497823</td>\n",
       "      <td>1.221170</td>\n",
       "      <td>105.280062</td>\n",
       "    </tr>\n",
       "    <tr>\n",
       "      <th>1</th>\n",
       "      <td>2acmU</td>\n",
       "      <td>1.334711</td>\n",
       "      <td>-0.340164</td>\n",
       "      <td>4.365080</td>\n",
       "      <td>73.037750</td>\n",
       "    </tr>\n",
       "    <tr>\n",
       "      <th>2</th>\n",
       "      <td>409Wp</td>\n",
       "      <td>1.022732</td>\n",
       "      <td>0.151990</td>\n",
       "      <td>1.419926</td>\n",
       "      <td>85.265647</td>\n",
       "    </tr>\n",
       "    <tr>\n",
       "      <th>3</th>\n",
       "      <td>iJLyR</td>\n",
       "      <td>-0.032172</td>\n",
       "      <td>0.139033</td>\n",
       "      <td>2.978566</td>\n",
       "      <td>168.620776</td>\n",
       "    </tr>\n",
       "    <tr>\n",
       "      <th>4</th>\n",
       "      <td>Xdl7t</td>\n",
       "      <td>1.988431</td>\n",
       "      <td>0.155413</td>\n",
       "      <td>4.751769</td>\n",
       "      <td>154.036647</td>\n",
       "    </tr>\n",
       "    <tr>\n",
       "      <th>...</th>\n",
       "      <td>...</td>\n",
       "      <td>...</td>\n",
       "      <td>...</td>\n",
       "      <td>...</td>\n",
       "      <td>...</td>\n",
       "    </tr>\n",
       "    <tr>\n",
       "      <th>99995</th>\n",
       "      <td>DLsed</td>\n",
       "      <td>0.971957</td>\n",
       "      <td>0.370953</td>\n",
       "      <td>6.075346</td>\n",
       "      <td>110.744026</td>\n",
       "    </tr>\n",
       "    <tr>\n",
       "      <th>99996</th>\n",
       "      <td>QKivN</td>\n",
       "      <td>1.392429</td>\n",
       "      <td>-0.382606</td>\n",
       "      <td>1.273912</td>\n",
       "      <td>122.346843</td>\n",
       "    </tr>\n",
       "    <tr>\n",
       "      <th>99997</th>\n",
       "      <td>3rnvd</td>\n",
       "      <td>1.029585</td>\n",
       "      <td>0.018787</td>\n",
       "      <td>-1.348308</td>\n",
       "      <td>64.375443</td>\n",
       "    </tr>\n",
       "    <tr>\n",
       "      <th>99998</th>\n",
       "      <td>7kl59</td>\n",
       "      <td>0.998163</td>\n",
       "      <td>-0.528582</td>\n",
       "      <td>1.583869</td>\n",
       "      <td>74.040764</td>\n",
       "    </tr>\n",
       "    <tr>\n",
       "      <th>99999</th>\n",
       "      <td>1CWhH</td>\n",
       "      <td>1.764754</td>\n",
       "      <td>-0.266417</td>\n",
       "      <td>5.722849</td>\n",
       "      <td>149.633246</td>\n",
       "    </tr>\n",
       "  </tbody>\n",
       "</table>\n",
       "<p>100000 rows × 5 columns</p>\n",
       "</div>"
      ],
      "text/plain": [
       "          id        f0        f1        f2     product\n",
       "0      txEyH  0.705745 -0.497823  1.221170  105.280062\n",
       "1      2acmU  1.334711 -0.340164  4.365080   73.037750\n",
       "2      409Wp  1.022732  0.151990  1.419926   85.265647\n",
       "3      iJLyR -0.032172  0.139033  2.978566  168.620776\n",
       "4      Xdl7t  1.988431  0.155413  4.751769  154.036647\n",
       "...      ...       ...       ...       ...         ...\n",
       "99995  DLsed  0.971957  0.370953  6.075346  110.744026\n",
       "99996  QKivN  1.392429 -0.382606  1.273912  122.346843\n",
       "99997  3rnvd  1.029585  0.018787 -1.348308   64.375443\n",
       "99998  7kl59  0.998163 -0.528582  1.583869   74.040764\n",
       "99999  1CWhH  1.764754 -0.266417  5.722849  149.633246\n",
       "\n",
       "[100000 rows x 5 columns]"
      ]
     },
     "execution_count": 5,
     "metadata": {},
     "output_type": "execute_result"
    }
   ],
   "source": [
    "geo_data_0"
   ]
  },
  {
   "cell_type": "code",
   "execution_count": 6,
   "metadata": {},
   "outputs": [
    {
     "data": {
      "text/html": [
       "<div>\n",
       "<style scoped>\n",
       "    .dataframe tbody tr th:only-of-type {\n",
       "        vertical-align: middle;\n",
       "    }\n",
       "\n",
       "    .dataframe tbody tr th {\n",
       "        vertical-align: top;\n",
       "    }\n",
       "\n",
       "    .dataframe thead th {\n",
       "        text-align: right;\n",
       "    }\n",
       "</style>\n",
       "<table border=\"1\" class=\"dataframe\">\n",
       "  <thead>\n",
       "    <tr style=\"text-align: right;\">\n",
       "      <th></th>\n",
       "      <th>id</th>\n",
       "      <th>f0</th>\n",
       "      <th>f1</th>\n",
       "      <th>f2</th>\n",
       "      <th>product</th>\n",
       "    </tr>\n",
       "  </thead>\n",
       "  <tbody>\n",
       "  </tbody>\n",
       "</table>\n",
       "</div>"
      ],
      "text/plain": [
       "Empty DataFrame\n",
       "Columns: [id, f0, f1, f2, product]\n",
       "Index: []"
      ]
     },
     "execution_count": 6,
     "metadata": {},
     "output_type": "execute_result"
    }
   ],
   "source": [
    "geo_data_0[geo_data_0.duplicated()]"
   ]
  },
  {
   "cell_type": "markdown",
   "metadata": {},
   "source": [
    "### geo_data_1"
   ]
  },
  {
   "cell_type": "code",
   "execution_count": 7,
   "metadata": {},
   "outputs": [],
   "source": [
    "geo_data_1 = pd.read_csv('/datasets/geo_data_1.csv')"
   ]
  },
  {
   "cell_type": "code",
   "execution_count": 8,
   "metadata": {
    "scrolled": true
   },
   "outputs": [
    {
     "name": "stdout",
     "output_type": "stream",
     "text": [
      "<class 'pandas.core.frame.DataFrame'>\n",
      "RangeIndex: 100000 entries, 0 to 99999\n",
      "Data columns (total 5 columns):\n",
      " #   Column   Non-Null Count   Dtype  \n",
      "---  ------   --------------   -----  \n",
      " 0   id       100000 non-null  object \n",
      " 1   f0       100000 non-null  float64\n",
      " 2   f1       100000 non-null  float64\n",
      " 3   f2       100000 non-null  float64\n",
      " 4   product  100000 non-null  float64\n",
      "dtypes: float64(4), object(1)\n",
      "memory usage: 3.8+ MB\n"
     ]
    }
   ],
   "source": [
    "geo_data_1.info()"
   ]
  },
  {
   "cell_type": "markdown",
   "metadata": {},
   "source": [
    "Tiene las mismas cantidad que el primer df, lo cual se ve bien sin valores nulos."
   ]
  },
  {
   "cell_type": "code",
   "execution_count": 9,
   "metadata": {
    "scrolled": true
   },
   "outputs": [
    {
     "data": {
      "text/html": [
       "<div>\n",
       "<style scoped>\n",
       "    .dataframe tbody tr th:only-of-type {\n",
       "        vertical-align: middle;\n",
       "    }\n",
       "\n",
       "    .dataframe tbody tr th {\n",
       "        vertical-align: top;\n",
       "    }\n",
       "\n",
       "    .dataframe thead th {\n",
       "        text-align: right;\n",
       "    }\n",
       "</style>\n",
       "<table border=\"1\" class=\"dataframe\">\n",
       "  <thead>\n",
       "    <tr style=\"text-align: right;\">\n",
       "      <th></th>\n",
       "      <th>f0</th>\n",
       "      <th>f1</th>\n",
       "      <th>f2</th>\n",
       "      <th>product</th>\n",
       "    </tr>\n",
       "  </thead>\n",
       "  <tbody>\n",
       "    <tr>\n",
       "      <th>count</th>\n",
       "      <td>100000.000000</td>\n",
       "      <td>100000.000000</td>\n",
       "      <td>100000.000000</td>\n",
       "      <td>100000.000000</td>\n",
       "    </tr>\n",
       "    <tr>\n",
       "      <th>mean</th>\n",
       "      <td>1.141296</td>\n",
       "      <td>-4.796579</td>\n",
       "      <td>2.494541</td>\n",
       "      <td>68.825000</td>\n",
       "    </tr>\n",
       "    <tr>\n",
       "      <th>std</th>\n",
       "      <td>8.965932</td>\n",
       "      <td>5.119872</td>\n",
       "      <td>1.703572</td>\n",
       "      <td>45.944423</td>\n",
       "    </tr>\n",
       "    <tr>\n",
       "      <th>min</th>\n",
       "      <td>-31.609576</td>\n",
       "      <td>-26.358598</td>\n",
       "      <td>-0.018144</td>\n",
       "      <td>0.000000</td>\n",
       "    </tr>\n",
       "    <tr>\n",
       "      <th>25%</th>\n",
       "      <td>-6.298551</td>\n",
       "      <td>-8.267985</td>\n",
       "      <td>1.000021</td>\n",
       "      <td>26.953261</td>\n",
       "    </tr>\n",
       "    <tr>\n",
       "      <th>50%</th>\n",
       "      <td>1.153055</td>\n",
       "      <td>-4.813172</td>\n",
       "      <td>2.011479</td>\n",
       "      <td>57.085625</td>\n",
       "    </tr>\n",
       "    <tr>\n",
       "      <th>75%</th>\n",
       "      <td>8.621015</td>\n",
       "      <td>-1.332816</td>\n",
       "      <td>3.999904</td>\n",
       "      <td>107.813044</td>\n",
       "    </tr>\n",
       "    <tr>\n",
       "      <th>max</th>\n",
       "      <td>29.421755</td>\n",
       "      <td>18.734063</td>\n",
       "      <td>5.019721</td>\n",
       "      <td>137.945408</td>\n",
       "    </tr>\n",
       "  </tbody>\n",
       "</table>\n",
       "</div>"
      ],
      "text/plain": [
       "                  f0             f1             f2        product\n",
       "count  100000.000000  100000.000000  100000.000000  100000.000000\n",
       "mean        1.141296      -4.796579       2.494541      68.825000\n",
       "std         8.965932       5.119872       1.703572      45.944423\n",
       "min       -31.609576     -26.358598      -0.018144       0.000000\n",
       "25%        -6.298551      -8.267985       1.000021      26.953261\n",
       "50%         1.153055      -4.813172       2.011479      57.085625\n",
       "75%         8.621015      -1.332816       3.999904     107.813044\n",
       "max        29.421755      18.734063       5.019721     137.945408"
      ]
     },
     "execution_count": 9,
     "metadata": {},
     "output_type": "execute_result"
    }
   ],
   "source": [
    "geo_data_1.describe()"
   ]
  },
  {
   "cell_type": "markdown",
   "metadata": {},
   "source": [
    "Podemos observar valores min normales que es 0 y valores maximos los cuales llega hasta 137, es un poco menor al primero pero nada fuera de lo comun, su media es mas baja."
   ]
  },
  {
   "cell_type": "code",
   "execution_count": 10,
   "metadata": {},
   "outputs": [
    {
     "data": {
      "text/html": [
       "<div>\n",
       "<style scoped>\n",
       "    .dataframe tbody tr th:only-of-type {\n",
       "        vertical-align: middle;\n",
       "    }\n",
       "\n",
       "    .dataframe tbody tr th {\n",
       "        vertical-align: top;\n",
       "    }\n",
       "\n",
       "    .dataframe thead th {\n",
       "        text-align: right;\n",
       "    }\n",
       "</style>\n",
       "<table border=\"1\" class=\"dataframe\">\n",
       "  <thead>\n",
       "    <tr style=\"text-align: right;\">\n",
       "      <th></th>\n",
       "      <th>id</th>\n",
       "      <th>f0</th>\n",
       "      <th>f1</th>\n",
       "      <th>f2</th>\n",
       "      <th>product</th>\n",
       "    </tr>\n",
       "  </thead>\n",
       "  <tbody>\n",
       "    <tr>\n",
       "      <th>0</th>\n",
       "      <td>kBEdx</td>\n",
       "      <td>-15.001348</td>\n",
       "      <td>-8.276000</td>\n",
       "      <td>-0.005876</td>\n",
       "      <td>3.179103</td>\n",
       "    </tr>\n",
       "    <tr>\n",
       "      <th>1</th>\n",
       "      <td>62mP7</td>\n",
       "      <td>14.272088</td>\n",
       "      <td>-3.475083</td>\n",
       "      <td>0.999183</td>\n",
       "      <td>26.953261</td>\n",
       "    </tr>\n",
       "    <tr>\n",
       "      <th>2</th>\n",
       "      <td>vyE1P</td>\n",
       "      <td>6.263187</td>\n",
       "      <td>-5.948386</td>\n",
       "      <td>5.001160</td>\n",
       "      <td>134.766305</td>\n",
       "    </tr>\n",
       "    <tr>\n",
       "      <th>3</th>\n",
       "      <td>KcrkZ</td>\n",
       "      <td>-13.081196</td>\n",
       "      <td>-11.506057</td>\n",
       "      <td>4.999415</td>\n",
       "      <td>137.945408</td>\n",
       "    </tr>\n",
       "    <tr>\n",
       "      <th>4</th>\n",
       "      <td>AHL4O</td>\n",
       "      <td>12.702195</td>\n",
       "      <td>-8.147433</td>\n",
       "      <td>5.004363</td>\n",
       "      <td>134.766305</td>\n",
       "    </tr>\n",
       "    <tr>\n",
       "      <th>...</th>\n",
       "      <td>...</td>\n",
       "      <td>...</td>\n",
       "      <td>...</td>\n",
       "      <td>...</td>\n",
       "      <td>...</td>\n",
       "    </tr>\n",
       "    <tr>\n",
       "      <th>99995</th>\n",
       "      <td>QywKC</td>\n",
       "      <td>9.535637</td>\n",
       "      <td>-6.878139</td>\n",
       "      <td>1.998296</td>\n",
       "      <td>53.906522</td>\n",
       "    </tr>\n",
       "    <tr>\n",
       "      <th>99996</th>\n",
       "      <td>ptvty</td>\n",
       "      <td>-10.160631</td>\n",
       "      <td>-12.558096</td>\n",
       "      <td>5.005581</td>\n",
       "      <td>137.945408</td>\n",
       "    </tr>\n",
       "    <tr>\n",
       "      <th>99997</th>\n",
       "      <td>09gWa</td>\n",
       "      <td>-7.378891</td>\n",
       "      <td>-3.084104</td>\n",
       "      <td>4.998651</td>\n",
       "      <td>137.945408</td>\n",
       "    </tr>\n",
       "    <tr>\n",
       "      <th>99998</th>\n",
       "      <td>rqwUm</td>\n",
       "      <td>0.665714</td>\n",
       "      <td>-6.152593</td>\n",
       "      <td>1.000146</td>\n",
       "      <td>30.132364</td>\n",
       "    </tr>\n",
       "    <tr>\n",
       "      <th>99999</th>\n",
       "      <td>relB0</td>\n",
       "      <td>-3.426139</td>\n",
       "      <td>-7.794274</td>\n",
       "      <td>-0.003299</td>\n",
       "      <td>3.179103</td>\n",
       "    </tr>\n",
       "  </tbody>\n",
       "</table>\n",
       "<p>100000 rows × 5 columns</p>\n",
       "</div>"
      ],
      "text/plain": [
       "          id         f0         f1        f2     product\n",
       "0      kBEdx -15.001348  -8.276000 -0.005876    3.179103\n",
       "1      62mP7  14.272088  -3.475083  0.999183   26.953261\n",
       "2      vyE1P   6.263187  -5.948386  5.001160  134.766305\n",
       "3      KcrkZ -13.081196 -11.506057  4.999415  137.945408\n",
       "4      AHL4O  12.702195  -8.147433  5.004363  134.766305\n",
       "...      ...        ...        ...       ...         ...\n",
       "99995  QywKC   9.535637  -6.878139  1.998296   53.906522\n",
       "99996  ptvty -10.160631 -12.558096  5.005581  137.945408\n",
       "99997  09gWa  -7.378891  -3.084104  4.998651  137.945408\n",
       "99998  rqwUm   0.665714  -6.152593  1.000146   30.132364\n",
       "99999  relB0  -3.426139  -7.794274 -0.003299    3.179103\n",
       "\n",
       "[100000 rows x 5 columns]"
      ]
     },
     "execution_count": 10,
     "metadata": {},
     "output_type": "execute_result"
    }
   ],
   "source": [
    "geo_data_1"
   ]
  },
  {
   "cell_type": "code",
   "execution_count": 11,
   "metadata": {},
   "outputs": [
    {
     "data": {
      "text/html": [
       "<div>\n",
       "<style scoped>\n",
       "    .dataframe tbody tr th:only-of-type {\n",
       "        vertical-align: middle;\n",
       "    }\n",
       "\n",
       "    .dataframe tbody tr th {\n",
       "        vertical-align: top;\n",
       "    }\n",
       "\n",
       "    .dataframe thead th {\n",
       "        text-align: right;\n",
       "    }\n",
       "</style>\n",
       "<table border=\"1\" class=\"dataframe\">\n",
       "  <thead>\n",
       "    <tr style=\"text-align: right;\">\n",
       "      <th></th>\n",
       "      <th>id</th>\n",
       "      <th>f0</th>\n",
       "      <th>f1</th>\n",
       "      <th>f2</th>\n",
       "      <th>product</th>\n",
       "    </tr>\n",
       "  </thead>\n",
       "  <tbody>\n",
       "  </tbody>\n",
       "</table>\n",
       "</div>"
      ],
      "text/plain": [
       "Empty DataFrame\n",
       "Columns: [id, f0, f1, f2, product]\n",
       "Index: []"
      ]
     },
     "execution_count": 11,
     "metadata": {},
     "output_type": "execute_result"
    }
   ],
   "source": [
    "geo_data_1[geo_data_1.duplicated()]"
   ]
  },
  {
   "cell_type": "markdown",
   "metadata": {},
   "source": [
    "### geo_data_2"
   ]
  },
  {
   "cell_type": "code",
   "execution_count": 12,
   "metadata": {},
   "outputs": [],
   "source": [
    "geo_data_2 = pd.read_csv('/datasets/geo_data_2.csv')"
   ]
  },
  {
   "cell_type": "code",
   "execution_count": 13,
   "metadata": {
    "scrolled": true
   },
   "outputs": [
    {
     "name": "stdout",
     "output_type": "stream",
     "text": [
      "<class 'pandas.core.frame.DataFrame'>\n",
      "RangeIndex: 100000 entries, 0 to 99999\n",
      "Data columns (total 5 columns):\n",
      " #   Column   Non-Null Count   Dtype  \n",
      "---  ------   --------------   -----  \n",
      " 0   id       100000 non-null  object \n",
      " 1   f0       100000 non-null  float64\n",
      " 2   f1       100000 non-null  float64\n",
      " 3   f2       100000 non-null  float64\n",
      " 4   product  100000 non-null  float64\n",
      "dtypes: float64(4), object(1)\n",
      "memory usage: 3.8+ MB\n"
     ]
    }
   ],
   "source": [
    "geo_data_2.info()"
   ]
  },
  {
   "cell_type": "markdown",
   "metadata": {},
   "source": [
    "Igual 100,000 valores sin valores vacios, y dos tipos de datos."
   ]
  },
  {
   "cell_type": "code",
   "execution_count": 14,
   "metadata": {
    "scrolled": true
   },
   "outputs": [
    {
     "data": {
      "text/html": [
       "<div>\n",
       "<style scoped>\n",
       "    .dataframe tbody tr th:only-of-type {\n",
       "        vertical-align: middle;\n",
       "    }\n",
       "\n",
       "    .dataframe tbody tr th {\n",
       "        vertical-align: top;\n",
       "    }\n",
       "\n",
       "    .dataframe thead th {\n",
       "        text-align: right;\n",
       "    }\n",
       "</style>\n",
       "<table border=\"1\" class=\"dataframe\">\n",
       "  <thead>\n",
       "    <tr style=\"text-align: right;\">\n",
       "      <th></th>\n",
       "      <th>f0</th>\n",
       "      <th>f1</th>\n",
       "      <th>f2</th>\n",
       "      <th>product</th>\n",
       "    </tr>\n",
       "  </thead>\n",
       "  <tbody>\n",
       "    <tr>\n",
       "      <th>count</th>\n",
       "      <td>100000.000000</td>\n",
       "      <td>100000.000000</td>\n",
       "      <td>100000.000000</td>\n",
       "      <td>100000.000000</td>\n",
       "    </tr>\n",
       "    <tr>\n",
       "      <th>mean</th>\n",
       "      <td>0.002023</td>\n",
       "      <td>-0.002081</td>\n",
       "      <td>2.495128</td>\n",
       "      <td>95.000000</td>\n",
       "    </tr>\n",
       "    <tr>\n",
       "      <th>std</th>\n",
       "      <td>1.732045</td>\n",
       "      <td>1.730417</td>\n",
       "      <td>3.473445</td>\n",
       "      <td>44.749921</td>\n",
       "    </tr>\n",
       "    <tr>\n",
       "      <th>min</th>\n",
       "      <td>-8.760004</td>\n",
       "      <td>-7.084020</td>\n",
       "      <td>-11.970335</td>\n",
       "      <td>0.000000</td>\n",
       "    </tr>\n",
       "    <tr>\n",
       "      <th>25%</th>\n",
       "      <td>-1.162288</td>\n",
       "      <td>-1.174820</td>\n",
       "      <td>0.130359</td>\n",
       "      <td>59.450441</td>\n",
       "    </tr>\n",
       "    <tr>\n",
       "      <th>50%</th>\n",
       "      <td>0.009424</td>\n",
       "      <td>-0.009482</td>\n",
       "      <td>2.484236</td>\n",
       "      <td>94.925613</td>\n",
       "    </tr>\n",
       "    <tr>\n",
       "      <th>75%</th>\n",
       "      <td>1.158535</td>\n",
       "      <td>1.163678</td>\n",
       "      <td>4.858794</td>\n",
       "      <td>130.595027</td>\n",
       "    </tr>\n",
       "    <tr>\n",
       "      <th>max</th>\n",
       "      <td>7.238262</td>\n",
       "      <td>7.844801</td>\n",
       "      <td>16.739402</td>\n",
       "      <td>190.029838</td>\n",
       "    </tr>\n",
       "  </tbody>\n",
       "</table>\n",
       "</div>"
      ],
      "text/plain": [
       "                  f0             f1             f2        product\n",
       "count  100000.000000  100000.000000  100000.000000  100000.000000\n",
       "mean        0.002023      -0.002081       2.495128      95.000000\n",
       "std         1.732045       1.730417       3.473445      44.749921\n",
       "min        -8.760004      -7.084020     -11.970335       0.000000\n",
       "25%        -1.162288      -1.174820       0.130359      59.450441\n",
       "50%         0.009424      -0.009482       2.484236      94.925613\n",
       "75%         1.158535       1.163678       4.858794     130.595027\n",
       "max         7.238262       7.844801      16.739402     190.029838"
      ]
     },
     "execution_count": 14,
     "metadata": {},
     "output_type": "execute_result"
    }
   ],
   "source": [
    "geo_data_2.describe()"
   ]
  },
  {
   "cell_type": "markdown",
   "metadata": {},
   "source": [
    "Podemos notar un valor min 0 el cual seria bueno, pero el valor maximo es 190 el cual es mas grande que las dos bases previas."
   ]
  },
  {
   "cell_type": "code",
   "execution_count": 15,
   "metadata": {
    "scrolled": false
   },
   "outputs": [
    {
     "data": {
      "text/html": [
       "<div>\n",
       "<style scoped>\n",
       "    .dataframe tbody tr th:only-of-type {\n",
       "        vertical-align: middle;\n",
       "    }\n",
       "\n",
       "    .dataframe tbody tr th {\n",
       "        vertical-align: top;\n",
       "    }\n",
       "\n",
       "    .dataframe thead th {\n",
       "        text-align: right;\n",
       "    }\n",
       "</style>\n",
       "<table border=\"1\" class=\"dataframe\">\n",
       "  <thead>\n",
       "    <tr style=\"text-align: right;\">\n",
       "      <th></th>\n",
       "      <th>id</th>\n",
       "      <th>f0</th>\n",
       "      <th>f1</th>\n",
       "      <th>f2</th>\n",
       "      <th>product</th>\n",
       "    </tr>\n",
       "  </thead>\n",
       "  <tbody>\n",
       "    <tr>\n",
       "      <th>0</th>\n",
       "      <td>fwXo0</td>\n",
       "      <td>-1.146987</td>\n",
       "      <td>0.963328</td>\n",
       "      <td>-0.828965</td>\n",
       "      <td>27.758673</td>\n",
       "    </tr>\n",
       "    <tr>\n",
       "      <th>1</th>\n",
       "      <td>WJtFt</td>\n",
       "      <td>0.262778</td>\n",
       "      <td>0.269839</td>\n",
       "      <td>-2.530187</td>\n",
       "      <td>56.069697</td>\n",
       "    </tr>\n",
       "    <tr>\n",
       "      <th>2</th>\n",
       "      <td>ovLUW</td>\n",
       "      <td>0.194587</td>\n",
       "      <td>0.289035</td>\n",
       "      <td>-5.586433</td>\n",
       "      <td>62.871910</td>\n",
       "    </tr>\n",
       "    <tr>\n",
       "      <th>3</th>\n",
       "      <td>q6cA6</td>\n",
       "      <td>2.236060</td>\n",
       "      <td>-0.553760</td>\n",
       "      <td>0.930038</td>\n",
       "      <td>114.572842</td>\n",
       "    </tr>\n",
       "    <tr>\n",
       "      <th>4</th>\n",
       "      <td>WPMUX</td>\n",
       "      <td>-0.515993</td>\n",
       "      <td>1.716266</td>\n",
       "      <td>5.899011</td>\n",
       "      <td>149.600746</td>\n",
       "    </tr>\n",
       "    <tr>\n",
       "      <th>...</th>\n",
       "      <td>...</td>\n",
       "      <td>...</td>\n",
       "      <td>...</td>\n",
       "      <td>...</td>\n",
       "      <td>...</td>\n",
       "    </tr>\n",
       "    <tr>\n",
       "      <th>99995</th>\n",
       "      <td>4GxBu</td>\n",
       "      <td>-1.777037</td>\n",
       "      <td>1.125220</td>\n",
       "      <td>6.263374</td>\n",
       "      <td>172.327046</td>\n",
       "    </tr>\n",
       "    <tr>\n",
       "      <th>99996</th>\n",
       "      <td>YKFjq</td>\n",
       "      <td>-1.261523</td>\n",
       "      <td>-0.894828</td>\n",
       "      <td>2.524545</td>\n",
       "      <td>138.748846</td>\n",
       "    </tr>\n",
       "    <tr>\n",
       "      <th>99997</th>\n",
       "      <td>tKPY3</td>\n",
       "      <td>-1.199934</td>\n",
       "      <td>-2.957637</td>\n",
       "      <td>5.219411</td>\n",
       "      <td>157.080080</td>\n",
       "    </tr>\n",
       "    <tr>\n",
       "      <th>99998</th>\n",
       "      <td>nmxp2</td>\n",
       "      <td>-2.419896</td>\n",
       "      <td>2.417221</td>\n",
       "      <td>-5.548444</td>\n",
       "      <td>51.795253</td>\n",
       "    </tr>\n",
       "    <tr>\n",
       "      <th>99999</th>\n",
       "      <td>V9kWn</td>\n",
       "      <td>-2.551421</td>\n",
       "      <td>-2.025625</td>\n",
       "      <td>6.090891</td>\n",
       "      <td>102.775767</td>\n",
       "    </tr>\n",
       "  </tbody>\n",
       "</table>\n",
       "<p>100000 rows × 5 columns</p>\n",
       "</div>"
      ],
      "text/plain": [
       "          id        f0        f1        f2     product\n",
       "0      fwXo0 -1.146987  0.963328 -0.828965   27.758673\n",
       "1      WJtFt  0.262778  0.269839 -2.530187   56.069697\n",
       "2      ovLUW  0.194587  0.289035 -5.586433   62.871910\n",
       "3      q6cA6  2.236060 -0.553760  0.930038  114.572842\n",
       "4      WPMUX -0.515993  1.716266  5.899011  149.600746\n",
       "...      ...       ...       ...       ...         ...\n",
       "99995  4GxBu -1.777037  1.125220  6.263374  172.327046\n",
       "99996  YKFjq -1.261523 -0.894828  2.524545  138.748846\n",
       "99997  tKPY3 -1.199934 -2.957637  5.219411  157.080080\n",
       "99998  nmxp2 -2.419896  2.417221 -5.548444   51.795253\n",
       "99999  V9kWn -2.551421 -2.025625  6.090891  102.775767\n",
       "\n",
       "[100000 rows x 5 columns]"
      ]
     },
     "execution_count": 15,
     "metadata": {},
     "output_type": "execute_result"
    }
   ],
   "source": [
    "geo_data_2"
   ]
  },
  {
   "cell_type": "code",
   "execution_count": 16,
   "metadata": {
    "scrolled": true
   },
   "outputs": [
    {
     "data": {
      "text/html": [
       "<div>\n",
       "<style scoped>\n",
       "    .dataframe tbody tr th:only-of-type {\n",
       "        vertical-align: middle;\n",
       "    }\n",
       "\n",
       "    .dataframe tbody tr th {\n",
       "        vertical-align: top;\n",
       "    }\n",
       "\n",
       "    .dataframe thead th {\n",
       "        text-align: right;\n",
       "    }\n",
       "</style>\n",
       "<table border=\"1\" class=\"dataframe\">\n",
       "  <thead>\n",
       "    <tr style=\"text-align: right;\">\n",
       "      <th></th>\n",
       "      <th>id</th>\n",
       "      <th>f0</th>\n",
       "      <th>f1</th>\n",
       "      <th>f2</th>\n",
       "      <th>product</th>\n",
       "    </tr>\n",
       "  </thead>\n",
       "  <tbody>\n",
       "  </tbody>\n",
       "</table>\n",
       "</div>"
      ],
      "text/plain": [
       "Empty DataFrame\n",
       "Columns: [id, f0, f1, f2, product]\n",
       "Index: []"
      ]
     },
     "execution_count": 16,
     "metadata": {},
     "output_type": "execute_result"
    }
   ],
   "source": [
    "geo_data_2[geo_data_2.duplicated()]"
   ]
  },
  {
   "cell_type": "markdown",
   "metadata": {},
   "source": [
    "<div class=\"alert alert-block alert-success\">\n",
    "<b>Comentario del revisor. (Iteración 1) </b> <a class=\"tocSkip\"></a>\n",
    "\n",
    "Ok, empiezas muy bien Gerardo, la lectura de los archivos es correcta y el uso de los métodos describe e info para dar un vistazo al como están compuestos los dataframes, pero, justamente, en ese sentido, sería muy valioso que colocarás tus observaciones respecto a lo que se obtiene de dichos métodos."
   ]
  },
  {
   "cell_type": "markdown",
   "metadata": {},
   "source": [
    "<div class=\"alert alert-block alert-warning\">\n",
    "<b>Comentario del revisor. (Iteración 1) </b> <a class=\"tocSkip\"></a>\n",
    "\n",
    "Me parece que hace falta por acá un análisis exploratorio previo al modelo. Recuerda que la importancia del EDA, radica en que podemos detectar las relaciones y patrones existentes entre las variables. ¿Te parece si lo completas?"
   ]
  },
  {
   "cell_type": "markdown",
   "metadata": {},
   "source": []
  },
  {
   "cell_type": "markdown",
   "metadata": {},
   "source": [
    "## Modelo de predicción (Regresion Lineal)"
   ]
  },
  {
   "cell_type": "code",
   "execution_count": 17,
   "metadata": {},
   "outputs": [],
   "source": [
    "model = LinearRegression()"
   ]
  },
  {
   "cell_type": "code",
   "execution_count": 18,
   "metadata": {},
   "outputs": [],
   "source": [
    "rmse_ds = []"
   ]
  },
  {
   "cell_type": "code",
   "execution_count": 19,
   "metadata": {},
   "outputs": [],
   "source": [
    "def divisorDeDf (df):\n",
    "    df_train, df_valid = train_test_split(df, test_size=0.25, random_state=12345)\n",
    "    features_train = df_train.drop(['product','id'], axis=1)\n",
    "    target_train = df_train['product']\n",
    "    features_valid =df_valid.drop(['product','id'],axis=1)\n",
    "    target_valid = df_valid['product']\n",
    "    model.fit(features_train,target_train)\n",
    "    prediction = model.predict(features_valid)\n",
    "    return prediction, target_valid"
   ]
  },
  {
   "cell_type": "markdown",
   "metadata": {},
   "source": [
    "<div class=\"alert alert-block alert-success\">\n",
    "<b>Review General. (Iteración 2) </b> <a class=\"tocSkip\"></a>\n",
    "\n",
    "Muy bien Gerardo, con la definición de una función aseguras que tu código sea escalable, lo que significa que podría aplciarse en caso de, por ejemplo, que llegaran más archivos."
   ]
  },
  {
   "cell_type": "markdown",
   "metadata": {},
   "source": [
    "### Separacion del datos | geo_data_0"
   ]
  },
  {
   "cell_type": "code",
   "execution_count": 20,
   "metadata": {},
   "outputs": [],
   "source": [
    "#df_train, df_valid = train_test_split(geo_data_0, test_size=0.25, random_state=12345)"
   ]
  },
  {
   "cell_type": "markdown",
   "metadata": {},
   "source": [
    "<div class=\"alert alert-block alert-success\">\n",
    "<b>Comentario del revisor. (Iteración 1) </b> <a class=\"tocSkip\"></a>\n",
    "\n",
    "Muy bien, haces un correcto uso del split de datos para obtener el entrenamiento y la validación."
   ]
  },
  {
   "cell_type": "code",
   "execution_count": 21,
   "metadata": {},
   "outputs": [],
   "source": [
    "#features_train = df_train.drop(['product','id'], axis=1)\n",
    "#target_train = df_train['product']\n",
    "#features_valid =df_valid.drop(['product','id'],axis=1)\n",
    "#target_valid = df_valid['product']\n"
   ]
  },
  {
   "cell_type": "markdown",
   "metadata": {},
   "source": [
    "<div class=\"alert alert-block alert-success\">\n",
    "<b>Comentario del revisor. (Iteración 1) </b> <a class=\"tocSkip\"></a>\n",
    "\n",
    "Excelente punto Gerardo. Con esto logras identificar la variable objetivo.\n",
    "   "
   ]
  },
  {
   "cell_type": "markdown",
   "metadata": {},
   "source": [
    "Quitamos el ID ya que al ser un facto de indentificacion no beneficia en ningun sentido el entrenamiento del modelo."
   ]
  },
  {
   "cell_type": "code",
   "execution_count": 22,
   "metadata": {},
   "outputs": [],
   "source": [
    "#features_train"
   ]
  },
  {
   "cell_type": "code",
   "execution_count": 23,
   "metadata": {},
   "outputs": [],
   "source": [
    "#model.fit(features_train,target_train)"
   ]
  },
  {
   "cell_type": "code",
   "execution_count": 24,
   "metadata": {},
   "outputs": [],
   "source": [
    "#prediction = model.predict(features_valid)"
   ]
  },
  {
   "cell_type": "code",
   "execution_count": 25,
   "metadata": {
    "scrolled": true
   },
   "outputs": [],
   "source": [
    "#prediction"
   ]
  },
  {
   "cell_type": "code",
   "execution_count": 26,
   "metadata": {},
   "outputs": [],
   "source": [
    "prediction, target_valid=divisorDeDf(geo_data_0)"
   ]
  },
  {
   "cell_type": "code",
   "execution_count": 27,
   "metadata": {},
   "outputs": [],
   "source": [
    "mse = mean_squared_error(target_valid, prediction) \n",
    "rmse = np.sqrt(mse)  \n",
    "rmse_ds.append(rmse)"
   ]
  },
  {
   "cell_type": "code",
   "execution_count": 28,
   "metadata": {},
   "outputs": [
    {
     "name": "stdout",
     "output_type": "stream",
     "text": [
      "Error cuadratico medio 1412.2129364399243\n",
      "Raiz del error cuadratico medio 37.5794217150813\n"
     ]
    }
   ],
   "source": [
    "print('Error cuadratico medio',mse)\n",
    "print('Raiz del error cuadratico medio', rmse)"
   ]
  },
  {
   "cell_type": "markdown",
   "metadata": {},
   "source": [
    "<div class=\"alert alert-block alert-success\">\n",
    "<b>Comentario del revisor. (Iteración 1) </b> <a class=\"tocSkip\"></a>\n",
    "\n",
    "Perfecto, la conclusión que obtienes abajo es muy buena, felicidades por ello!"
   ]
  },
  {
   "cell_type": "markdown",
   "metadata": {},
   "source": [
    "Tenemos una raiz de error cuadratico medio de 37.57 el cual como estamos manejando cantidades las cuales rondan de 0 a 200 pero como estamos hablando que las reservas esta expresadas en miles de barriles podria llegar afectar."
   ]
  },
  {
   "cell_type": "markdown",
   "metadata": {},
   "source": [
    "### Separacion de informacion | geo_data_1"
   ]
  },
  {
   "cell_type": "code",
   "execution_count": 29,
   "metadata": {},
   "outputs": [],
   "source": [
    "prediction_1, target_valid_1 = divisorDeDf(geo_data_1)"
   ]
  },
  {
   "cell_type": "code",
   "execution_count": 30,
   "metadata": {},
   "outputs": [],
   "source": [
    "mse = mean_squared_error(target_valid_1, prediction_1)\n",
    "rmse = np.sqrt(mse)\n",
    "rmse_ds.append(rmse)"
   ]
  },
  {
   "cell_type": "code",
   "execution_count": 31,
   "metadata": {
    "scrolled": true
   },
   "outputs": [
    {
     "name": "stdout",
     "output_type": "stream",
     "text": [
      "Error cuadratico medio 0.7976263360391157\n",
      "Raiz del error cuadratico medio 0.893099286775617\n"
     ]
    }
   ],
   "source": [
    "print('Error cuadratico medio',mse)\n",
    "print('Raiz del error cuadratico medio', rmse)"
   ]
  },
  {
   "cell_type": "markdown",
   "metadata": {},
   "source": [
    "Podemos notar una raiz de error cuadratico medio mas grande, el cual puede presentar un problema a futuro y mas cuando el valor mas alto de product con esta base de datos es apenas de 135"
   ]
  },
  {
   "cell_type": "markdown",
   "metadata": {},
   "source": [
    "### Separacion de informacion | geo_data_2"
   ]
  },
  {
   "cell_type": "code",
   "execution_count": 32,
   "metadata": {},
   "outputs": [],
   "source": [
    "prediction_2, target_valid_2 = divisorDeDf(geo_data_2)"
   ]
  },
  {
   "cell_type": "code",
   "execution_count": 33,
   "metadata": {},
   "outputs": [],
   "source": [
    "mse = mean_squared_error(target_valid_2, prediction_2)\n",
    "rmse = np.sqrt(mse)\n",
    "rmse_ds.append(rmse)"
   ]
  },
  {
   "cell_type": "code",
   "execution_count": 34,
   "metadata": {},
   "outputs": [
    {
     "name": "stdout",
     "output_type": "stream",
     "text": [
      "Error cuadratico medio 1602.3775813236196\n",
      "Raiz del error cuadratico medio 40.02970873393434\n"
     ]
    }
   ],
   "source": [
    "print('Error cuadratico medio',mse)\n",
    "print('Raiz del error cuadratico medio', rmse)"
   ]
  },
  {
   "cell_type": "markdown",
   "metadata": {},
   "source": [
    "<div class=\"alert alert-block alert-warning\">\n",
    "<b>Comentario del revisor. (Iteración 1) </b> <a class=\"tocSkip\"></a>\n",
    "\n",
    "No es que haya algo malo en lo que haces aquí, Gerardo, sin embargo, es una buena práctica el no repetir el código, y aquí, en esta parte, haces lo mismo las tres veces ¿No crees que valdría mucho la pena definir una función y solo aplicarla a cada dataframe? Sería bueno que lo intentaras\n",
    "    "
   ]
  },
  {
   "cell_type": "markdown",
   "metadata": {},
   "source": [
    "Tiene toda la razon una función funcionaria mejor"
   ]
  },
  {
   "cell_type": "code",
   "execution_count": 35,
   "metadata": {},
   "outputs": [],
   "source": [
    "etiquetas=['region 0','region 1','region 2']"
   ]
  },
  {
   "cell_type": "code",
   "execution_count": 36,
   "metadata": {
    "scrolled": true
   },
   "outputs": [
    {
     "data": {
      "text/plain": [
       "<function matplotlib.pyplot.show(close=None, block=None)>"
      ]
     },
     "execution_count": 36,
     "metadata": {},
     "output_type": "execute_result"
    },
    {
     "data": {
      "image/png": "[encoded data removed]",
      "text/plain": [
       "<Figure size 640x480 with 1 Axes>"
      ]
     },
     "metadata": {},
     "output_type": "display_data"
    }
   ],
   "source": [
    "plt.bar(etiquetas,rmse_ds)\n",
    "plt.show"
   ]
  },
  {
   "cell_type": "markdown",
   "metadata": {},
   "source": [
    "La region 1 es la que tiene menor raiz error cuadratico."
   ]
  },
  {
   "cell_type": "markdown",
   "metadata": {},
   "source": [
    "## Calculo de ganancias"
   ]
  },
  {
   "cell_type": "markdown",
   "metadata": {},
   "source": [
    "### Tomando la media de toda la base de datos"
   ]
  },
  {
   "cell_type": "code",
   "execution_count": 37,
   "metadata": {
    "scrolled": true
   },
   "outputs": [],
   "source": [
    "product_geo_0 = geo_data_0['product']\n",
    "product_geo_1 = geo_data_1['product']\n",
    "product_geo_2 = geo_data_2['product']"
   ]
  },
  {
   "cell_type": "code",
   "execution_count": 38,
   "metadata": {},
   "outputs": [
    {
     "data": {
      "text/plain": [
       "92.50000000000001"
      ]
     },
     "execution_count": 38,
     "metadata": {},
     "output_type": "execute_result"
    }
   ],
   "source": [
    "product_geo_0.mean()"
   ]
  },
  {
   "cell_type": "code",
   "execution_count": 39,
   "metadata": {},
   "outputs": [
    {
     "data": {
      "text/plain": [
       "68.82500000000002"
      ]
     },
     "execution_count": 39,
     "metadata": {},
     "output_type": "execute_result"
    }
   ],
   "source": [
    "product_geo_1.mean()"
   ]
  },
  {
   "cell_type": "code",
   "execution_count": 40,
   "metadata": {},
   "outputs": [
    {
     "data": {
      "text/plain": [
       "95.00000000000004"
      ]
     },
     "execution_count": 40,
     "metadata": {},
     "output_type": "execute_result"
    }
   ],
   "source": [
    "product_geo_2.mean()"
   ]
  },
  {
   "cell_type": "markdown",
   "metadata": {},
   "source": [
    "<div class=\"alert alert-block alert-success\">\n",
    "<b>Comentario del revisor. (Iteración 1) </b> <a class=\"tocSkip\"></a>\n",
    "\n",
    "Ok, calculaste de manera correcta la media de la base. Muy bien"
   ]
  },
  {
   "cell_type": "markdown",
   "metadata": {},
   "source": [
    "### Tomaremos los mejores 200 pozos"
   ]
  },
  {
   "cell_type": "code",
   "execution_count": 41,
   "metadata": {},
   "outputs": [
    {
     "data": {
      "text/plain": [
       "184.83373964536008"
      ]
     },
     "execution_count": 41,
     "metadata": {},
     "output_type": "execute_result"
    }
   ],
   "source": [
    "product_geo_0 = product_geo_0.sort_values(ascending=False)[:200]\n",
    "product_geo_0.mean()"
   ]
  },
  {
   "cell_type": "code",
   "execution_count": 42,
   "metadata": {},
   "outputs": [
    {
     "data": {
      "text/plain": [
       "137.9454077409057"
      ]
     },
     "execution_count": 42,
     "metadata": {},
     "output_type": "execute_result"
    }
   ],
   "source": [
    "product_geo_1 = product_geo_1.sort_values(ascending=False)[:200]\n",
    "product_geo_1.mean()"
   ]
  },
  {
   "cell_type": "code",
   "execution_count": 43,
   "metadata": {},
   "outputs": [
    {
     "data": {
      "text/plain": [
       "189.55147698176646"
      ]
     },
     "execution_count": 43,
     "metadata": {},
     "output_type": "execute_result"
    }
   ],
   "source": [
    "product_geo_2 = product_geo_2.sort_values(ascending=False)[:200]\n",
    "product_geo_2.mean()"
   ]
  },
  {
   "cell_type": "markdown",
   "metadata": {},
   "source": [
    "La mejor region para contruir pozo petroleros es la Region 2 y de ahi la Regio 0, las cuales tienen un mayor margen de ganancia, asi como para la predicion del modelo de regresion lineal es mucho mas claro con un errro menor"
   ]
  },
  {
   "cell_type": "markdown",
   "metadata": {},
   "source": [
    "## Función para calcular la fanancia de un conjunto de pozos "
   ]
  },
  {
   "cell_type": "code",
   "execution_count": 44,
   "metadata": {},
   "outputs": [],
   "source": [
    "def gananciatotal(volumen):\n",
    "    total = volumen*1000*4500\n",
    "    return total"
   ]
  },
  {
   "cell_type": "markdown",
   "metadata": {},
   "source": [
    "Con esta funciona calcula el total que prodia producir el df ingresado.\n",
    "\n",
    "El ingreso de una unidad de producto es de 4500 dólares (el volumen de reservas está expresado en miles de barriles)."
   ]
  },
  {
   "cell_type": "markdown",
   "metadata": {},
   "source": [
    "<div class=\"alert alert-block alert-warning\">\n",
    "<b>Comentario del revisor. (Iteración 1) </b> <a class=\"tocSkip\"></a>\n",
    "\n",
    "Mira, aquí vale la pena justificar el uso de esta formula. ¿Por qué es que con ella podemos calcular las ganancias?"
   ]
  },
  {
   "cell_type": "code",
   "execution_count": 45,
   "metadata": {},
   "outputs": [],
   "source": [
    "top200_geo_0 = gananciatotal(product_geo_0)\n",
    "top200_geo_1 = gananciatotal(product_geo_1)\n",
    "top200_geo_2 = gananciatotal(product_geo_2)"
   ]
  },
  {
   "cell_type": "markdown",
   "metadata": {},
   "source": [
    "Aqui se calcula el total de todo el df de los 200 mejores pozos"
   ]
  },
  {
   "cell_type": "code",
   "execution_count": 46,
   "metadata": {},
   "outputs": [
    {
     "data": {
      "text/plain": [
       "166350365680.82407"
      ]
     },
     "execution_count": 46,
     "metadata": {},
     "output_type": "execute_result"
    }
   ],
   "source": [
    "top200_geo_0.sum()"
   ]
  },
  {
   "cell_type": "code",
   "execution_count": 47,
   "metadata": {},
   "outputs": [
    {
     "data": {
      "text/plain": [
       "8826     8.341396e+08\n",
       "99818    8.341321e+08\n",
       "94175    8.341003e+08\n",
       "1925     8.340974e+08\n",
       "45291    8.340841e+08\n",
       "             ...     \n",
       "34856    8.296491e+08\n",
       "54135    8.296305e+08\n",
       "63598    8.296234e+08\n",
       "4941     8.296144e+08\n",
       "79494    8.296040e+08\n",
       "Name: product, Length: 200, dtype: float64"
      ]
     },
     "execution_count": 47,
     "metadata": {},
     "output_type": "execute_result"
    }
   ],
   "source": [
    "top200_geo_0"
   ]
  },
  {
   "cell_type": "code",
   "execution_count": 48,
   "metadata": {},
   "outputs": [
    {
     "data": {
      "text/plain": [
       "124150866966.81512"
      ]
     },
     "execution_count": 48,
     "metadata": {},
     "output_type": "execute_result"
    }
   ],
   "source": [
    "top200_geo_1.sum()"
   ]
  },
  {
   "cell_type": "code",
   "execution_count": 49,
   "metadata": {
    "scrolled": true
   },
   "outputs": [
    {
     "data": {
      "text/plain": [
       "170596329283.5898"
      ]
     },
     "execution_count": 49,
     "metadata": {},
     "output_type": "execute_result"
    }
   ],
   "source": [
    "top200_geo_2.sum()"
   ]
  },
  {
   "cell_type": "code",
   "execution_count": 50,
   "metadata": {},
   "outputs": [],
   "source": [
    "top_ingresos = [top200_geo_0.sum(),top200_geo_1.sum(),top200_geo_2.sum()]"
   ]
  },
  {
   "cell_type": "code",
   "execution_count": 51,
   "metadata": {},
   "outputs": [
    {
     "data": {
      "text/plain": [
       "<BarContainer object of 3 artists>"
      ]
     },
     "execution_count": 51,
     "metadata": {},
     "output_type": "execute_result"
    },
    {
     "data": {
      "image/png": "[encoded data removed]",
      "text/plain": [
       "<Figure size 640x480 with 1 Axes>"
      ]
     },
     "metadata": {},
     "output_type": "display_data"
    }
   ],
   "source": [
    "plt.bar(etiquetas,top_ingresos)"
   ]
  },
  {
   "cell_type": "markdown",
   "metadata": {},
   "source": [
    "La Region 2 presenta una mayor ganancia de ahi la Region 0. Estas dos regiones han mostrado tener una media muy similar de producto, mas aparte que el sistema de regresion lineal es mas acertado con estas dos regiones."
   ]
  },
  {
   "cell_type": "markdown",
   "metadata": {},
   "source": [
    "## Calcular riesgos y ganancias para cada region"
   ]
  },
  {
   "cell_type": "code",
   "execution_count": 52,
   "metadata": {},
   "outputs": [],
   "source": [
    "def calculoDeRiesgo (ds):\n",
    "    state = np.random.RandomState(12345)\n",
    "    values = []\n",
    "    for i in range(1000):\n",
    "        subsample =ds.sample(frac=1, replace=True, random_state=state)\n",
    "        values.append(subsample.quantile(0.99))\n",
    "    \n",
    "    values = pd.Series(values)\n",
    "\n",
    "    lower = values.quantile(0.05)\n",
    "    upper = values.quantile(0.95)\n",
    "    return lower, upper"
   ]
  },
  {
   "cell_type": "markdown",
   "metadata": {},
   "source": [
    "### Geo_data_0"
   ]
  },
  {
   "cell_type": "code",
   "execution_count": null,
   "metadata": {},
   "outputs": [],
   "source": []
  },
  {
   "cell_type": "code",
   "execution_count": 53,
   "metadata": {},
   "outputs": [],
   "source": [
    "lower_0, upper_0 = calculoDeRiesgo(top200_geo_0)"
   ]
  },
  {
   "cell_type": "code",
   "execution_count": 54,
   "metadata": {
    "scrolled": true
   },
   "outputs": [
    {
     "name": "stdout",
     "output_type": "stream",
     "text": [
      "834023439.712424\n",
      "834139563.400318\n"
     ]
    }
   ],
   "source": [
    "print(lower_0)\n",
    "print(upper_0)"
   ]
  },
  {
   "cell_type": "code",
   "execution_count": 55,
   "metadata": {},
   "outputs": [],
   "source": [
    "lim_region_0 = [lower_0,upper_0]"
   ]
  },
  {
   "cell_type": "code",
   "execution_count": 56,
   "metadata": {},
   "outputs": [],
   "source": [
    "lim_regiones = []"
   ]
  },
  {
   "cell_type": "code",
   "execution_count": 57,
   "metadata": {},
   "outputs": [],
   "source": [
    "lim_regiones.append(lim_region_0)"
   ]
  },
  {
   "cell_type": "markdown",
   "metadata": {},
   "source": [
    "### Geo_data_1"
   ]
  },
  {
   "cell_type": "code",
   "execution_count": 58,
   "metadata": {},
   "outputs": [],
   "source": [
    "lower_1, upper_1 = calculoDeRiesgo(top200_geo_1)"
   ]
  },
  {
   "cell_type": "code",
   "execution_count": 59,
   "metadata": {},
   "outputs": [
    {
     "name": "stdout",
     "output_type": "stream",
     "text": [
      "620754334.8340755\n",
      "620754334.8340755\n"
     ]
    }
   ],
   "source": [
    "print(lower_1)\n",
    "print(upper_1)"
   ]
  },
  {
   "cell_type": "code",
   "execution_count": 60,
   "metadata": {},
   "outputs": [],
   "source": [
    "lim_region_1 = [lower_1,upper_1]"
   ]
  },
  {
   "cell_type": "code",
   "execution_count": 61,
   "metadata": {},
   "outputs": [],
   "source": [
    "lim_regiones.append(lim_region_1)"
   ]
  },
  {
   "cell_type": "markdown",
   "metadata": {},
   "source": [
    "### Geo_data_2"
   ]
  },
  {
   "cell_type": "code",
   "execution_count": 62,
   "metadata": {},
   "outputs": [],
   "source": [
    "lower_2, upper_2 = calculoDeRiesgo(top200_geo_2)"
   ]
  },
  {
   "cell_type": "code",
   "execution_count": 63,
   "metadata": {
    "scrolled": true
   },
   "outputs": [
    {
     "name": "stdout",
     "output_type": "stream",
     "text": [
      "854947919.4521296\n",
      "855134272.5450808\n"
     ]
    }
   ],
   "source": [
    "print(lower_2)\n",
    "print(upper_2)"
   ]
  },
  {
   "cell_type": "code",
   "execution_count": 64,
   "metadata": {},
   "outputs": [],
   "source": [
    "lim_region_2 = [lower_2,upper_2]"
   ]
  },
  {
   "cell_type": "code",
   "execution_count": 65,
   "metadata": {},
   "outputs": [],
   "source": [
    "lim_regiones.append(lim_region_2)"
   ]
  },
  {
   "cell_type": "code",
   "execution_count": 66,
   "metadata": {},
   "outputs": [],
   "source": [
    "limites=[]"
   ]
  },
  {
   "cell_type": "code",
   "execution_count": 68,
   "metadata": {},
   "outputs": [],
   "source": [
    "for lim in lim_regiones:\n",
    "    for l in lim:\n",
    "        limites.append(l)"
   ]
  },
  {
   "cell_type": "markdown",
   "metadata": {},
   "source": [
    "<div class=\"alert alert-block alert-success\">\n",
    "<b>Review General. (Iteración 3) </b> <a class=\"tocSkip\"></a>\n",
    "\n",
    "Perfecto!"
   ]
  },
  {
   "cell_type": "markdown",
   "metadata": {},
   "source": [
    "<div class=\"alert alert-block alert-warning\">\n",
    "<b>Review General. (Iteración 2) </b> <a class=\"tocSkip\"></a>\n",
    "\n",
    "Mira, Gerardo, por acá hay un detalle con la indentación."
   ]
  },
  {
   "cell_type": "markdown",
   "metadata": {},
   "source": [
    "Listo, no entiendo por que hay veces que mando el documento y se modifican o no se salvan algunos cambios, pero corregido!"
   ]
  },
  {
   "cell_type": "code",
   "execution_count": 69,
   "metadata": {},
   "outputs": [],
   "source": [
    "etiquetas = ['region 0 min', 'region 0 max','region 1 min','region 1 max','region 2 min','region 2 max']"
   ]
  },
  {
   "cell_type": "code",
   "execution_count": 70,
   "metadata": {},
   "outputs": [
    {
     "name": "stdout",
     "output_type": "stream",
     "text": [
      "[834023439.712424, 834139563.400318, 620754334.8340755, 620754334.8340755, 854947919.4521296, 855134272.5450808]\n"
     ]
    }
   ],
   "source": [
    "print(limites)"
   ]
  },
  {
   "cell_type": "code",
   "execution_count": 76,
   "metadata": {},
   "outputs": [
    {
     "data": {
      "text/plain": [
       "([0, 1, 2, 3, 4, 5],\n",
       " [Text(0, 0, ''),\n",
       "  Text(0, 0, ''),\n",
       "  Text(0, 0, ''),\n",
       "  Text(0, 0, ''),\n",
       "  Text(0, 0, ''),\n",
       "  Text(0, 0, '')])"
      ]
     },
     "execution_count": 76,
     "metadata": {},
     "output_type": "execute_result"
    },
    {
     "data": {
      "image/png": "[encoded data removed]",
      "text/plain": [
       "<Figure size 640x480 with 1 Axes>"
      ]
     },
     "metadata": {},
     "output_type": "display_data"
    }
   ],
   "source": [
    "plt.bar(etiquetas,limites)\n",
    "plt.title('Grafico de Min y Max de las Regiones')\n",
    "plt.xlabel('Regiones')\n",
    "plt.xticks(rotation=45)"
   ]
  },
  {
   "cell_type": "markdown",
   "metadata": {},
   "source": [
    "<div class=\"alert alert-block alert-success\">\n",
    "<b>Review General. (Iteración 3) </b> <a class=\"tocSkip\"></a>\n",
    "\n",
    "El error era respecto a la gráfica, muy bien por corregirlo!"
   ]
  },
  {
   "cell_type": "markdown",
   "metadata": {},
   "source": [
    "<div class=\"alert alert-block alert-warning\">\n",
    "<b>Review General. (Iteración 2) </b> <a class=\"tocSkip\"></a>\n",
    "\n",
    "Me parece haces bien en usar gráficos, sin embargo en este gráfico hubo algún problema. ¿Te parece si lo corregimos?"
   ]
  },
  {
   "cell_type": "markdown",
   "metadata": {},
   "source": [
    "El error es referente a la grafica o a la con respecto a la función"
   ]
  },
  {
   "cell_type": "markdown",
   "metadata": {},
   "source": [
    "## Conclusion"
   ]
  },
  {
   "cell_type": "markdown",
   "metadata": {},
   "source": [
    "Como podemos observar los margernes de perdida de la Region 2 y 1 son bajos, podemos observar que las probabilidades de tener ganancias son altas, aparte sus base de datos hace que sea mas facil y predecible la cantidad de producto ya que sus errores son menores al de la region 1.\n"
   ]
  },
  {
   "cell_type": "code",
   "execution_count": null,
   "metadata": {},
   "outputs": [],
   "source": []
  }
 ],
 "metadata": {
  "ExecuteTimeLog": [
   {
    "duration": 898,
    "start_time": "2024-11-25T20:06:30.734Z"
   },
   {
    "duration": 659,
    "start_time": "2024-11-25T20:06:31.635Z"
   },
   {
    "duration": 64,
    "start_time": "2024-11-25T20:06:35.971Z"
   },
   {
    "duration": 63,
    "start_time": "2024-11-25T20:06:42.671Z"
   },
   {
    "duration": 72,
    "start_time": "2024-11-25T20:06:57.996Z"
   },
   {
    "duration": 63,
    "start_time": "2024-11-25T20:07:52.119Z"
   },
   {
    "duration": 105,
    "start_time": "2024-11-25T20:08:30.111Z"
   },
   {
    "duration": 12,
    "start_time": "2024-11-25T20:08:42.875Z"
   },
   {
    "duration": 30,
    "start_time": "2024-11-25T20:09:16.510Z"
   },
   {
    "duration": 11,
    "start_time": "2024-11-25T20:09:34.180Z"
   },
   {
    "duration": 39,
    "start_time": "2024-11-25T20:09:51.016Z"
   },
   {
    "duration": 36,
    "start_time": "2024-11-25T20:09:59.880Z"
   },
   {
    "duration": 104,
    "start_time": "2024-11-25T20:10:41.188Z"
   },
   {
    "duration": 13,
    "start_time": "2024-11-25T20:10:48.904Z"
   },
   {
    "duration": 12,
    "start_time": "2024-11-25T20:10:52.001Z"
   },
   {
    "duration": 24,
    "start_time": "2024-11-25T20:11:01.624Z"
   },
   {
    "duration": 10,
    "start_time": "2024-11-25T20:11:09.496Z"
   },
   {
    "duration": 33,
    "start_time": "2024-11-25T20:11:25.856Z"
   },
   {
    "duration": 63,
    "start_time": "2024-11-25T20:12:01.316Z"
   },
   {
    "duration": 62,
    "start_time": "2024-11-25T20:12:06.775Z"
   },
   {
    "duration": 101,
    "start_time": "2024-11-25T20:12:22.366Z"
   },
   {
    "duration": 12,
    "start_time": "2024-11-25T20:12:35.362Z"
   },
   {
    "duration": 13,
    "start_time": "2024-11-25T20:12:44.666Z"
   },
   {
    "duration": 26,
    "start_time": "2024-11-25T20:12:48.604Z"
   },
   {
    "duration": 10,
    "start_time": "2024-11-25T20:12:53.336Z"
   },
   {
    "duration": 654,
    "start_time": "2024-11-25T20:13:10.462Z"
   },
   {
    "duration": 38,
    "start_time": "2024-11-25T20:13:14.433Z"
   },
   {
    "duration": 3,
    "start_time": "2024-11-25T21:23:44.549Z"
   },
   {
    "duration": 760,
    "start_time": "2024-11-25T21:24:39.920Z"
   },
   {
    "duration": 83,
    "start_time": "2024-11-25T21:24:40.682Z"
   },
   {
    "duration": 13,
    "start_time": "2024-11-25T21:24:40.767Z"
   },
   {
    "duration": 31,
    "start_time": "2024-11-25T21:24:40.782Z"
   },
   {
    "duration": 31,
    "start_time": "2024-11-25T21:24:40.816Z"
   },
   {
    "duration": 59,
    "start_time": "2024-11-25T21:24:40.849Z"
   },
   {
    "duration": 84,
    "start_time": "2024-11-25T21:24:40.911Z"
   },
   {
    "duration": 12,
    "start_time": "2024-11-25T21:24:40.996Z"
   },
   {
    "duration": 25,
    "start_time": "2024-11-25T21:24:41.009Z"
   },
   {
    "duration": 12,
    "start_time": "2024-11-25T21:24:41.044Z"
   },
   {
    "duration": 32,
    "start_time": "2024-11-25T21:24:41.059Z"
   },
   {
    "duration": 93,
    "start_time": "2024-11-25T21:24:41.093Z"
   },
   {
    "duration": 11,
    "start_time": "2024-11-25T21:24:41.188Z"
   },
   {
    "duration": 25,
    "start_time": "2024-11-25T21:24:41.201Z"
   },
   {
    "duration": 23,
    "start_time": "2024-11-25T21:24:41.228Z"
   },
   {
    "duration": 36,
    "start_time": "2024-11-25T21:24:41.253Z"
   },
   {
    "duration": 2,
    "start_time": "2024-11-25T21:24:41.291Z"
   },
   {
    "duration": 247,
    "start_time": "2024-11-25T21:24:41.296Z"
   },
   {
    "duration": 13,
    "start_time": "2024-11-25T21:25:16.883Z"
   },
   {
    "duration": 11,
    "start_time": "2024-11-25T21:26:27.548Z"
   },
   {
    "duration": 16,
    "start_time": "2024-11-25T21:45:09.748Z"
   },
   {
    "duration": 26,
    "start_time": "2024-11-25T21:45:17.491Z"
   },
   {
    "duration": 153,
    "start_time": "2024-11-26T18:30:09.029Z"
   },
   {
    "duration": 814,
    "start_time": "2024-11-26T18:30:41.738Z"
   },
   {
    "duration": 105,
    "start_time": "2024-11-26T18:30:42.555Z"
   },
   {
    "duration": 13,
    "start_time": "2024-11-26T18:30:42.662Z"
   },
   {
    "duration": 28,
    "start_time": "2024-11-26T18:30:42.677Z"
   },
   {
    "duration": 25,
    "start_time": "2024-11-26T18:30:42.707Z"
   },
   {
    "duration": 34,
    "start_time": "2024-11-26T18:30:42.733Z"
   },
   {
    "duration": 96,
    "start_time": "2024-11-26T18:30:42.770Z"
   },
   {
    "duration": 10,
    "start_time": "2024-11-26T18:30:42.868Z"
   },
   {
    "duration": 26,
    "start_time": "2024-11-26T18:30:42.880Z"
   },
   {
    "duration": 12,
    "start_time": "2024-11-26T18:30:42.926Z"
   },
   {
    "duration": 30,
    "start_time": "2024-11-26T18:30:42.939Z"
   },
   {
    "duration": 93,
    "start_time": "2024-11-26T18:30:42.971Z"
   },
   {
    "duration": 11,
    "start_time": "2024-11-26T18:30:43.065Z"
   },
   {
    "duration": 25,
    "start_time": "2024-11-26T18:30:43.078Z"
   },
   {
    "duration": 24,
    "start_time": "2024-11-26T18:30:43.104Z"
   },
   {
    "duration": 32,
    "start_time": "2024-11-26T18:30:43.129Z"
   },
   {
    "duration": 8,
    "start_time": "2024-11-26T18:30:43.164Z"
   },
   {
    "duration": 2,
    "start_time": "2024-11-26T18:30:43.174Z"
   },
   {
    "duration": 48,
    "start_time": "2024-11-26T18:30:43.178Z"
   },
   {
    "duration": 11,
    "start_time": "2024-11-26T18:30:43.228Z"
   },
   {
    "duration": 9,
    "start_time": "2024-11-26T18:30:43.240Z"
   },
   {
    "duration": 226,
    "start_time": "2024-11-26T18:30:43.251Z"
   },
   {
    "duration": 28,
    "start_time": "2024-11-26T18:31:11.602Z"
   },
   {
    "duration": 29,
    "start_time": "2024-11-26T18:31:30.886Z"
   },
   {
    "duration": 24,
    "start_time": "2024-11-26T18:31:45.572Z"
   },
   {
    "duration": 15,
    "start_time": "2024-11-26T18:34:46.403Z"
   },
   {
    "duration": 20,
    "start_time": "2024-11-26T18:35:37.575Z"
   },
   {
    "duration": 5,
    "start_time": "2024-11-26T18:36:32.083Z"
   },
   {
    "duration": 3,
    "start_time": "2024-11-26T18:36:38.160Z"
   },
   {
    "duration": 4,
    "start_time": "2024-11-26T18:36:51.204Z"
   },
   {
    "duration": 14,
    "start_time": "2024-11-26T18:37:05.004Z"
   },
   {
    "duration": 5,
    "start_time": "2024-11-26T18:39:27.825Z"
   },
   {
    "duration": 12,
    "start_time": "2024-11-26T18:39:32.873Z"
   },
   {
    "duration": 394,
    "start_time": "2024-11-26T18:39:45.181Z"
   },
   {
    "duration": 40,
    "start_time": "2024-11-26T18:40:10.441Z"
   },
   {
    "duration": 39,
    "start_time": "2024-11-26T18:40:32.174Z"
   },
   {
    "duration": 41,
    "start_time": "2024-11-26T18:40:50.854Z"
   },
   {
    "duration": 4,
    "start_time": "2024-11-26T18:41:27.494Z"
   },
   {
    "duration": 40,
    "start_time": "2024-11-26T18:41:35.817Z"
   },
   {
    "duration": 41,
    "start_time": "2024-11-26T18:41:49.361Z"
   },
   {
    "duration": 40,
    "start_time": "2024-11-26T18:42:09.500Z"
   },
   {
    "duration": 9,
    "start_time": "2024-11-26T18:42:40.362Z"
   },
   {
    "duration": 433,
    "start_time": "2024-11-26T18:44:31.078Z"
   },
   {
    "duration": 56,
    "start_time": "2024-11-26T18:44:35.646Z"
   },
   {
    "duration": 69,
    "start_time": "2024-11-26T18:44:41.881Z"
   },
   {
    "duration": 41,
    "start_time": "2024-11-26T18:45:41.370Z"
   },
   {
    "duration": 3,
    "start_time": "2024-11-26T18:46:04.455Z"
   },
   {
    "duration": 4,
    "start_time": "2024-11-26T18:46:18.822Z"
   },
   {
    "duration": 5,
    "start_time": "2024-11-26T18:47:23.509Z"
   },
   {
    "duration": 9,
    "start_time": "2024-11-26T18:47:39.404Z"
   },
   {
    "duration": 4,
    "start_time": "2024-11-26T18:47:43.611Z"
   },
   {
    "duration": 5,
    "start_time": "2024-11-26T18:48:10.700Z"
   },
   {
    "duration": 11,
    "start_time": "2024-11-26T18:48:17.166Z"
   },
   {
    "duration": 784,
    "start_time": "2024-11-26T18:48:33.143Z"
   },
   {
    "duration": 94,
    "start_time": "2024-11-26T18:48:33.930Z"
   },
   {
    "duration": 13,
    "start_time": "2024-11-26T18:48:34.025Z"
   },
   {
    "duration": 28,
    "start_time": "2024-11-26T18:48:34.040Z"
   },
   {
    "duration": 11,
    "start_time": "2024-11-26T18:48:34.071Z"
   },
   {
    "duration": 54,
    "start_time": "2024-11-26T18:48:34.083Z"
   },
   {
    "duration": 70,
    "start_time": "2024-11-26T18:48:34.139Z"
   },
   {
    "duration": 19,
    "start_time": "2024-11-26T18:48:34.211Z"
   },
   {
    "duration": 24,
    "start_time": "2024-11-26T18:48:34.231Z"
   },
   {
    "duration": 8,
    "start_time": "2024-11-26T18:48:34.257Z"
   },
   {
    "duration": 31,
    "start_time": "2024-11-26T18:48:34.267Z"
   },
   {
    "duration": 94,
    "start_time": "2024-11-26T18:48:34.300Z"
   },
   {
    "duration": 11,
    "start_time": "2024-11-26T18:48:34.395Z"
   },
   {
    "duration": 25,
    "start_time": "2024-11-26T18:48:34.424Z"
   },
   {
    "duration": 10,
    "start_time": "2024-11-26T18:48:34.450Z"
   },
   {
    "duration": 30,
    "start_time": "2024-11-26T18:48:34.462Z"
   },
   {
    "duration": 42,
    "start_time": "2024-11-26T18:48:34.493Z"
   },
   {
    "duration": 2,
    "start_time": "2024-11-26T18:48:34.537Z"
   },
   {
    "duration": 24,
    "start_time": "2024-11-26T18:48:34.541Z"
   },
   {
    "duration": 10,
    "start_time": "2024-11-26T18:48:34.567Z"
   },
   {
    "duration": 10,
    "start_time": "2024-11-26T18:48:34.578Z"
   },
   {
    "duration": 236,
    "start_time": "2024-11-26T18:48:34.590Z"
   },
   {
    "duration": 10,
    "start_time": "2024-11-26T18:48:43.317Z"
   },
   {
    "duration": 22,
    "start_time": "2024-11-26T18:56:23.320Z"
   },
   {
    "duration": 10,
    "start_time": "2024-11-26T18:56:34.837Z"
   },
   {
    "duration": 408,
    "start_time": "2024-11-26T18:56:51.387Z"
   },
   {
    "duration": 437,
    "start_time": "2024-11-26T18:57:06.899Z"
   },
   {
    "duration": 53,
    "start_time": "2024-11-26T18:57:11.318Z"
   },
   {
    "duration": 68,
    "start_time": "2024-11-26T18:57:27.000Z"
   },
   {
    "duration": 72,
    "start_time": "2024-11-26T18:57:42.486Z"
   },
   {
    "duration": 45,
    "start_time": "2024-11-26T18:57:46.945Z"
   },
   {
    "duration": 66,
    "start_time": "2024-11-26T18:58:18.761Z"
   },
   {
    "duration": 22,
    "start_time": "2024-11-26T18:59:00.443Z"
   },
   {
    "duration": 44,
    "start_time": "2024-11-26T18:59:21.471Z"
   },
   {
    "duration": 40,
    "start_time": "2024-11-26T18:59:32.953Z"
   },
   {
    "duration": 31,
    "start_time": "2024-11-26T19:03:04.770Z"
   },
   {
    "duration": 2,
    "start_time": "2024-11-26T19:15:12.338Z"
   },
   {
    "duration": 50,
    "start_time": "2024-11-26T19:16:06.285Z"
   },
   {
    "duration": 776,
    "start_time": "2024-11-26T19:16:18.745Z"
   },
   {
    "duration": 76,
    "start_time": "2024-11-26T19:16:19.523Z"
   },
   {
    "duration": 12,
    "start_time": "2024-11-26T19:16:19.601Z"
   },
   {
    "duration": 45,
    "start_time": "2024-11-26T19:16:19.614Z"
   },
   {
    "duration": 10,
    "start_time": "2024-11-26T19:16:19.663Z"
   },
   {
    "duration": 55,
    "start_time": "2024-11-26T19:16:19.675Z"
   },
   {
    "duration": 73,
    "start_time": "2024-11-26T19:16:19.732Z"
   },
   {
    "duration": 20,
    "start_time": "2024-11-26T19:16:19.806Z"
   },
   {
    "duration": 25,
    "start_time": "2024-11-26T19:16:19.828Z"
   },
   {
    "duration": 10,
    "start_time": "2024-11-26T19:16:19.854Z"
   },
   {
    "duration": 30,
    "start_time": "2024-11-26T19:16:19.865Z"
   },
   {
    "duration": 96,
    "start_time": "2024-11-26T19:16:19.897Z"
   },
   {
    "duration": 10,
    "start_time": "2024-11-26T19:16:19.995Z"
   },
   {
    "duration": 36,
    "start_time": "2024-11-26T19:16:20.009Z"
   },
   {
    "duration": 9,
    "start_time": "2024-11-26T19:16:20.047Z"
   },
   {
    "duration": 32,
    "start_time": "2024-11-26T19:16:20.058Z"
   },
   {
    "duration": 268,
    "start_time": "2024-11-26T19:16:20.091Z"
   },
   {
    "duration": 0,
    "start_time": "2024-11-26T19:16:20.361Z"
   },
   {
    "duration": 0,
    "start_time": "2024-11-26T19:16:20.363Z"
   },
   {
    "duration": 0,
    "start_time": "2024-11-26T19:16:20.365Z"
   },
   {
    "duration": 0,
    "start_time": "2024-11-26T19:16:20.366Z"
   },
   {
    "duration": 2,
    "start_time": "2024-11-26T19:16:29.399Z"
   },
   {
    "duration": 14,
    "start_time": "2024-11-26T19:18:12.027Z"
   },
   {
    "duration": 16,
    "start_time": "2024-11-26T19:18:17.620Z"
   },
   {
    "duration": 7,
    "start_time": "2024-11-26T19:18:19.518Z"
   },
   {
    "duration": 9,
    "start_time": "2024-11-26T19:19:08.470Z"
   },
   {
    "duration": 10,
    "start_time": "2024-11-26T19:19:33.610Z"
   },
   {
    "duration": 3,
    "start_time": "2024-11-26T19:19:41.454Z"
   },
   {
    "duration": 3,
    "start_time": "2024-11-26T19:19:49.439Z"
   },
   {
    "duration": 36,
    "start_time": "2024-11-26T19:20:14.850Z"
   },
   {
    "duration": 9,
    "start_time": "2024-11-26T19:20:46.858Z"
   },
   {
    "duration": 4,
    "start_time": "2024-11-26T19:30:58.009Z"
   },
   {
    "duration": 8,
    "start_time": "2024-11-26T19:31:00.139Z"
   },
   {
    "duration": 8,
    "start_time": "2024-11-26T19:31:04.744Z"
   },
   {
    "duration": 13,
    "start_time": "2024-11-26T19:31:47.787Z"
   },
   {
    "duration": 8,
    "start_time": "2024-11-26T19:31:52.781Z"
   },
   {
    "duration": 3,
    "start_time": "2024-11-26T19:32:13.967Z"
   },
   {
    "duration": 13,
    "start_time": "2024-11-26T19:33:50.028Z"
   },
   {
    "duration": 716,
    "start_time": "2024-11-26T19:33:55.804Z"
   },
   {
    "duration": 76,
    "start_time": "2024-11-26T19:33:56.523Z"
   },
   {
    "duration": 12,
    "start_time": "2024-11-26T19:33:56.601Z"
   },
   {
    "duration": 29,
    "start_time": "2024-11-26T19:33:56.624Z"
   },
   {
    "duration": 10,
    "start_time": "2024-11-26T19:33:56.654Z"
   },
   {
    "duration": 34,
    "start_time": "2024-11-26T19:33:56.666Z"
   },
   {
    "duration": 89,
    "start_time": "2024-11-26T19:33:56.702Z"
   },
   {
    "duration": 10,
    "start_time": "2024-11-26T19:33:56.793Z"
   },
   {
    "duration": 37,
    "start_time": "2024-11-26T19:33:56.804Z"
   },
   {
    "duration": 9,
    "start_time": "2024-11-26T19:33:56.845Z"
   },
   {
    "duration": 31,
    "start_time": "2024-11-26T19:33:56.855Z"
   },
   {
    "duration": 96,
    "start_time": "2024-11-26T19:33:56.888Z"
   },
   {
    "duration": 13,
    "start_time": "2024-11-26T19:33:56.986Z"
   },
   {
    "duration": 37,
    "start_time": "2024-11-26T19:33:57.000Z"
   },
   {
    "duration": 9,
    "start_time": "2024-11-26T19:33:57.040Z"
   },
   {
    "duration": 33,
    "start_time": "2024-11-26T19:33:57.050Z"
   },
   {
    "duration": 3,
    "start_time": "2024-11-26T19:33:57.084Z"
   },
   {
    "duration": 12,
    "start_time": "2024-11-26T19:33:57.088Z"
   },
   {
    "duration": 24,
    "start_time": "2024-11-26T19:33:57.102Z"
   },
   {
    "duration": 7,
    "start_time": "2024-11-26T19:33:57.128Z"
   },
   {
    "duration": 10,
    "start_time": "2024-11-26T19:33:57.136Z"
   },
   {
    "duration": 6,
    "start_time": "2024-11-26T19:33:57.147Z"
   },
   {
    "duration": 4,
    "start_time": "2024-11-26T19:33:57.154Z"
   },
   {
    "duration": 3,
    "start_time": "2024-11-26T19:33:57.160Z"
   },
   {
    "duration": 2,
    "start_time": "2024-11-26T19:36:49.742Z"
   },
   {
    "duration": 209,
    "start_time": "2024-11-26T19:38:27.011Z"
   },
   {
    "duration": 3,
    "start_time": "2024-11-26T19:38:32.378Z"
   },
   {
    "duration": 13,
    "start_time": "2024-11-26T19:50:30.139Z"
   },
   {
    "duration": 5,
    "start_time": "2024-11-26T19:52:38.729Z"
   },
   {
    "duration": 8,
    "start_time": "2024-11-26T19:52:58.770Z"
   },
   {
    "duration": 10,
    "start_time": "2024-11-26T19:53:21.239Z"
   },
   {
    "duration": 3,
    "start_time": "2024-11-26T19:54:14.041Z"
   },
   {
    "duration": 3,
    "start_time": "2024-11-26T19:54:33.881Z"
   },
   {
    "duration": 2,
    "start_time": "2024-11-26T19:54:47.450Z"
   },
   {
    "duration": 9,
    "start_time": "2024-11-26T19:56:42.508Z"
   },
   {
    "duration": 10,
    "start_time": "2024-11-26T19:56:58.138Z"
   },
   {
    "duration": 14,
    "start_time": "2024-11-26T19:58:58.751Z"
   },
   {
    "duration": 5,
    "start_time": "2024-11-26T20:06:01.434Z"
   },
   {
    "duration": 13,
    "start_time": "2024-11-26T20:06:17.688Z"
   },
   {
    "duration": 8,
    "start_time": "2024-11-26T20:06:21.645Z"
   },
   {
    "duration": 3,
    "start_time": "2024-11-26T20:06:46.873Z"
   },
   {
    "duration": 6,
    "start_time": "2024-11-26T20:06:55.106Z"
   },
   {
    "duration": 2,
    "start_time": "2024-11-26T20:07:25.948Z"
   },
   {
    "duration": 2,
    "start_time": "2024-11-26T20:07:35.021Z"
   },
   {
    "duration": 3,
    "start_time": "2024-11-26T20:10:56.328Z"
   },
   {
    "duration": 4,
    "start_time": "2024-11-26T20:11:25.527Z"
   },
   {
    "duration": 5,
    "start_time": "2024-11-26T20:11:34.436Z"
   },
   {
    "duration": 7,
    "start_time": "2024-11-26T20:11:41.761Z"
   },
   {
    "duration": 15,
    "start_time": "2024-11-26T20:13:32.239Z"
   },
   {
    "duration": 19,
    "start_time": "2024-11-26T20:13:37.755Z"
   },
   {
    "duration": 17,
    "start_time": "2024-11-26T20:13:44.298Z"
   },
   {
    "duration": 5,
    "start_time": "2024-11-26T20:13:58.853Z"
   },
   {
    "duration": 9,
    "start_time": "2024-11-26T20:14:14.036Z"
   },
   {
    "duration": 16,
    "start_time": "2024-11-26T20:14:24.152Z"
   },
   {
    "duration": 3,
    "start_time": "2024-11-26T21:13:31.818Z"
   },
   {
    "duration": 3,
    "start_time": "2024-11-26T21:14:04.912Z"
   },
   {
    "duration": 2,
    "start_time": "2024-11-26T21:14:17.438Z"
   },
   {
    "duration": 4,
    "start_time": "2024-11-26T21:14:24.226Z"
   },
   {
    "duration": 12,
    "start_time": "2024-11-26T21:14:48.228Z"
   },
   {
    "duration": 2,
    "start_time": "2024-11-26T21:14:51.169Z"
   },
   {
    "duration": 3,
    "start_time": "2024-11-26T21:14:52.480Z"
   },
   {
    "duration": 4,
    "start_time": "2024-11-26T21:14:53.057Z"
   },
   {
    "duration": 4,
    "start_time": "2024-11-26T21:15:10.581Z"
   },
   {
    "duration": 2,
    "start_time": "2024-11-26T21:17:35.795Z"
   },
   {
    "duration": 13,
    "start_time": "2024-11-26T21:17:36.952Z"
   },
   {
    "duration": 5,
    "start_time": "2024-11-26T21:17:37.456Z"
   },
   {
    "duration": 4,
    "start_time": "2024-11-26T21:17:43.500Z"
   },
   {
    "duration": 3,
    "start_time": "2024-11-26T21:17:47.983Z"
   },
   {
    "duration": 4,
    "start_time": "2024-11-26T21:17:52.708Z"
   },
   {
    "duration": 13,
    "start_time": "2024-11-26T21:18:58.691Z"
   },
   {
    "duration": 3,
    "start_time": "2024-11-26T21:19:02.602Z"
   },
   {
    "duration": 4,
    "start_time": "2024-11-26T21:19:11.176Z"
   },
   {
    "duration": 6,
    "start_time": "2024-11-26T21:23:03.720Z"
   },
   {
    "duration": 14,
    "start_time": "2024-11-26T21:23:13.265Z"
   },
   {
    "duration": 3,
    "start_time": "2024-11-26T21:23:25.053Z"
   },
   {
    "duration": 14,
    "start_time": "2024-11-26T21:23:27.790Z"
   },
   {
    "duration": 445,
    "start_time": "2024-11-26T21:23:37.786Z"
   },
   {
    "duration": 134,
    "start_time": "2024-11-26T21:23:53.567Z"
   },
   {
    "duration": 5,
    "start_time": "2024-11-26T21:24:58.634Z"
   },
   {
    "duration": 3,
    "start_time": "2024-11-26T21:25:31.517Z"
   },
   {
    "duration": 36,
    "start_time": "2024-11-26T21:25:34.553Z"
   },
   {
    "duration": 237,
    "start_time": "2024-11-26T21:27:35.043Z"
   },
   {
    "duration": 106,
    "start_time": "2024-11-26T21:27:43.574Z"
   },
   {
    "duration": 5,
    "start_time": "2024-11-26T21:28:14.288Z"
   },
   {
    "duration": 13,
    "start_time": "2024-11-26T21:28:33.397Z"
   },
   {
    "duration": 5,
    "start_time": "2024-11-26T21:29:00.769Z"
   },
   {
    "duration": 12,
    "start_time": "2024-11-26T21:29:48.783Z"
   },
   {
    "duration": 13,
    "start_time": "2024-11-26T21:30:07.743Z"
   },
   {
    "duration": 801,
    "start_time": "2024-11-26T21:30:31.824Z"
   },
   {
    "duration": 76,
    "start_time": "2024-11-26T21:30:32.628Z"
   },
   {
    "duration": 18,
    "start_time": "2024-11-26T21:30:32.706Z"
   },
   {
    "duration": 28,
    "start_time": "2024-11-26T21:30:32.726Z"
   },
   {
    "duration": 10,
    "start_time": "2024-11-26T21:30:32.756Z"
   },
   {
    "duration": 34,
    "start_time": "2024-11-26T21:30:32.767Z"
   },
   {
    "duration": 93,
    "start_time": "2024-11-26T21:30:32.802Z"
   },
   {
    "duration": 10,
    "start_time": "2024-11-26T21:30:32.897Z"
   },
   {
    "duration": 35,
    "start_time": "2024-11-26T21:30:32.909Z"
   },
   {
    "duration": 9,
    "start_time": "2024-11-26T21:30:32.946Z"
   },
   {
    "duration": 30,
    "start_time": "2024-11-26T21:30:32.956Z"
   },
   {
    "duration": 92,
    "start_time": "2024-11-26T21:30:32.988Z"
   },
   {
    "duration": 11,
    "start_time": "2024-11-26T21:30:33.081Z"
   },
   {
    "duration": 33,
    "start_time": "2024-11-26T21:30:33.096Z"
   },
   {
    "duration": 9,
    "start_time": "2024-11-26T21:30:33.131Z"
   },
   {
    "duration": 32,
    "start_time": "2024-11-26T21:30:33.141Z"
   },
   {
    "duration": 2,
    "start_time": "2024-11-26T21:30:33.174Z"
   },
   {
    "duration": 13,
    "start_time": "2024-11-26T21:30:33.178Z"
   },
   {
    "duration": 34,
    "start_time": "2024-11-26T21:30:33.193Z"
   },
   {
    "duration": 8,
    "start_time": "2024-11-26T21:30:33.229Z"
   },
   {
    "duration": 11,
    "start_time": "2024-11-26T21:30:33.239Z"
   },
   {
    "duration": 5,
    "start_time": "2024-11-26T21:30:33.252Z"
   },
   {
    "duration": 4,
    "start_time": "2024-11-26T21:30:33.258Z"
   },
   {
    "duration": 3,
    "start_time": "2024-11-26T21:30:33.263Z"
   },
   {
    "duration": 57,
    "start_time": "2024-11-26T21:30:33.268Z"
   },
   {
    "duration": 97,
    "start_time": "2024-11-26T21:30:33.327Z"
   },
   {
    "duration": 5,
    "start_time": "2024-11-26T21:30:33.426Z"
   },
   {
    "duration": 9,
    "start_time": "2024-11-26T21:30:33.433Z"
   },
   {
    "duration": 5,
    "start_time": "2024-11-26T21:30:33.443Z"
   },
   {
    "duration": 3,
    "start_time": "2024-11-26T21:30:33.450Z"
   },
   {
    "duration": 3,
    "start_time": "2024-11-26T21:30:33.455Z"
   },
   {
    "duration": 76,
    "start_time": "2024-11-26T21:30:33.460Z"
   },
   {
    "duration": 5,
    "start_time": "2024-11-26T21:30:33.538Z"
   },
   {
    "duration": 8,
    "start_time": "2024-11-26T21:30:33.545Z"
   },
   {
    "duration": 69,
    "start_time": "2024-11-26T21:30:33.555Z"
   },
   {
    "duration": 11,
    "start_time": "2024-11-26T21:30:33.626Z"
   },
   {
    "duration": 3,
    "start_time": "2024-11-26T21:30:33.639Z"
   },
   {
    "duration": 3,
    "start_time": "2024-11-26T21:30:33.643Z"
   },
   {
    "duration": 77,
    "start_time": "2024-11-26T21:30:33.648Z"
   },
   {
    "duration": 4,
    "start_time": "2024-11-26T21:30:33.727Z"
   },
   {
    "duration": 4,
    "start_time": "2024-11-26T21:30:33.737Z"
   },
   {
    "duration": 14,
    "start_time": "2024-11-26T21:30:33.742Z"
   },
   {
    "duration": 8,
    "start_time": "2024-11-26T21:30:33.759Z"
   },
   {
    "duration": 55,
    "start_time": "2024-11-26T21:30:33.769Z"
   },
   {
    "duration": 3,
    "start_time": "2024-11-26T21:30:33.825Z"
   },
   {
    "duration": 4,
    "start_time": "2024-11-26T21:30:33.829Z"
   },
   {
    "duration": 3,
    "start_time": "2024-11-26T21:30:33.835Z"
   },
   {
    "duration": 4,
    "start_time": "2024-11-26T21:30:33.840Z"
   },
   {
    "duration": 3,
    "start_time": "2024-11-26T21:30:33.846Z"
   },
   {
    "duration": 5,
    "start_time": "2024-11-26T21:30:33.851Z"
   },
   {
    "duration": 3,
    "start_time": "2024-11-26T21:30:33.857Z"
   },
   {
    "duration": 185,
    "start_time": "2024-11-26T21:30:33.862Z"
   },
   {
    "duration": 0,
    "start_time": "2024-11-26T21:30:34.049Z"
   },
   {
    "duration": 6,
    "start_time": "2024-11-26T21:30:53.585Z"
   },
   {
    "duration": 399,
    "start_time": "2024-11-26T21:31:04.543Z"
   },
   {
    "duration": 3,
    "start_time": "2024-11-26T21:31:13.177Z"
   },
   {
    "duration": 41,
    "start_time": "2024-11-26T21:31:21.322Z"
   },
   {
    "duration": 41,
    "start_time": "2024-11-26T21:31:25.074Z"
   },
   {
    "duration": 4,
    "start_time": "2024-11-26T21:32:21.229Z"
   },
   {
    "duration": 13,
    "start_time": "2024-11-26T21:32:48.181Z"
   },
   {
    "duration": 14,
    "start_time": "2024-11-26T21:32:53.014Z"
   },
   {
    "duration": 14,
    "start_time": "2024-11-26T21:32:56.536Z"
   },
   {
    "duration": 5,
    "start_time": "2024-11-26T21:33:16.023Z"
   },
   {
    "duration": 751,
    "start_time": "2024-11-26T21:33:32.364Z"
   },
   {
    "duration": 78,
    "start_time": "2024-11-26T21:33:33.119Z"
   },
   {
    "duration": 15,
    "start_time": "2024-11-26T21:33:33.199Z"
   },
   {
    "duration": 29,
    "start_time": "2024-11-26T21:33:33.225Z"
   },
   {
    "duration": 9,
    "start_time": "2024-11-26T21:33:33.257Z"
   },
   {
    "duration": 35,
    "start_time": "2024-11-26T21:33:33.267Z"
   },
   {
    "duration": 91,
    "start_time": "2024-11-26T21:33:33.304Z"
   },
   {
    "duration": 11,
    "start_time": "2024-11-26T21:33:33.397Z"
   },
   {
    "duration": 25,
    "start_time": "2024-11-26T21:33:33.423Z"
   },
   {
    "duration": 9,
    "start_time": "2024-11-26T21:33:33.449Z"
   },
   {
    "duration": 30,
    "start_time": "2024-11-26T21:33:33.460Z"
   },
   {
    "duration": 93,
    "start_time": "2024-11-26T21:33:33.492Z"
   },
   {
    "duration": 11,
    "start_time": "2024-11-26T21:33:33.587Z"
   },
   {
    "duration": 37,
    "start_time": "2024-11-26T21:33:33.602Z"
   },
   {
    "duration": 9,
    "start_time": "2024-11-26T21:33:33.641Z"
   },
   {
    "duration": 31,
    "start_time": "2024-11-26T21:33:33.651Z"
   },
   {
    "duration": 4,
    "start_time": "2024-11-26T21:33:33.684Z"
   },
   {
    "duration": 12,
    "start_time": "2024-11-26T21:33:33.689Z"
   },
   {
    "duration": 4,
    "start_time": "2024-11-26T21:33:33.725Z"
   },
   {
    "duration": 8,
    "start_time": "2024-11-26T21:33:33.731Z"
   },
   {
    "duration": 10,
    "start_time": "2024-11-26T21:33:33.740Z"
   },
   {
    "duration": 4,
    "start_time": "2024-11-26T21:33:33.752Z"
   },
   {
    "duration": 4,
    "start_time": "2024-11-26T21:33:33.758Z"
   },
   {
    "duration": 3,
    "start_time": "2024-11-26T21:33:33.764Z"
   },
   {
    "duration": 3,
    "start_time": "2024-11-26T21:33:33.824Z"
   },
   {
    "duration": 16,
    "start_time": "2024-11-26T21:33:33.828Z"
   },
   {
    "duration": 78,
    "start_time": "2024-11-26T21:33:33.846Z"
   },
   {
    "duration": 11,
    "start_time": "2024-11-26T21:33:33.926Z"
   },
   {
    "duration": 10,
    "start_time": "2024-11-26T21:33:33.938Z"
   },
   {
    "duration": 4,
    "start_time": "2024-11-26T21:33:33.949Z"
   },
   {
    "duration": 3,
    "start_time": "2024-11-26T21:33:33.954Z"
   },
   {
    "duration": 77,
    "start_time": "2024-11-26T21:33:33.959Z"
   },
   {
    "duration": 5,
    "start_time": "2024-11-26T21:33:34.042Z"
   },
   {
    "duration": 80,
    "start_time": "2024-11-26T21:33:34.049Z"
   },
   {
    "duration": 5,
    "start_time": "2024-11-26T21:33:34.130Z"
   },
   {
    "duration": 3,
    "start_time": "2024-11-26T21:33:34.137Z"
   },
   {
    "duration": 3,
    "start_time": "2024-11-26T21:33:34.141Z"
   },
   {
    "duration": 2,
    "start_time": "2024-11-26T21:33:34.146Z"
   },
   {
    "duration": 5,
    "start_time": "2024-11-26T21:33:34.150Z"
   },
   {
    "duration": 4,
    "start_time": "2024-11-26T21:33:34.225Z"
   },
   {
    "duration": 4,
    "start_time": "2024-11-26T21:33:34.235Z"
   },
   {
    "duration": 14,
    "start_time": "2024-11-26T21:33:34.241Z"
   },
   {
    "duration": 10,
    "start_time": "2024-11-26T21:33:34.257Z"
   },
   {
    "duration": 69,
    "start_time": "2024-11-26T21:33:34.268Z"
   },
   {
    "duration": 5,
    "start_time": "2024-11-26T21:33:34.339Z"
   },
   {
    "duration": 2,
    "start_time": "2024-11-26T21:33:34.345Z"
   },
   {
    "duration": 4,
    "start_time": "2024-11-26T21:33:34.349Z"
   },
   {
    "duration": 4,
    "start_time": "2024-11-26T21:33:34.355Z"
   },
   {
    "duration": 5,
    "start_time": "2024-11-26T21:33:34.360Z"
   },
   {
    "duration": 4,
    "start_time": "2024-11-26T21:33:34.366Z"
   },
   {
    "duration": 4,
    "start_time": "2024-11-26T21:33:34.372Z"
   },
   {
    "duration": 3,
    "start_time": "2024-11-26T21:33:34.377Z"
   },
   {
    "duration": 3,
    "start_time": "2024-11-26T21:33:34.425Z"
   },
   {
    "duration": 529,
    "start_time": "2024-11-26T21:33:34.430Z"
   },
   {
    "duration": 0,
    "start_time": "2024-11-26T21:33:34.961Z"
   },
   {
    "duration": 0,
    "start_time": "2024-11-26T21:33:34.962Z"
   },
   {
    "duration": 16,
    "start_time": "2024-11-26T21:33:49.405Z"
   },
   {
    "duration": 15,
    "start_time": "2024-11-26T21:34:03.928Z"
   },
   {
    "duration": 759,
    "start_time": "2024-11-26T21:34:32.363Z"
   },
   {
    "duration": 76,
    "start_time": "2024-11-26T21:34:33.124Z"
   },
   {
    "duration": 12,
    "start_time": "2024-11-26T21:34:33.202Z"
   },
   {
    "duration": 28,
    "start_time": "2024-11-26T21:34:33.224Z"
   },
   {
    "duration": 9,
    "start_time": "2024-11-26T21:34:33.255Z"
   },
   {
    "duration": 42,
    "start_time": "2024-11-26T21:34:33.265Z"
   },
   {
    "duration": 83,
    "start_time": "2024-11-26T21:34:33.309Z"
   },
   {
    "duration": 12,
    "start_time": "2024-11-26T21:34:33.394Z"
   },
   {
    "duration": 37,
    "start_time": "2024-11-26T21:34:33.407Z"
   },
   {
    "duration": 9,
    "start_time": "2024-11-26T21:34:33.446Z"
   },
   {
    "duration": 30,
    "start_time": "2024-11-26T21:34:33.457Z"
   },
   {
    "duration": 102,
    "start_time": "2024-11-26T21:34:33.489Z"
   },
   {
    "duration": 11,
    "start_time": "2024-11-26T21:34:33.593Z"
   },
   {
    "duration": 36,
    "start_time": "2024-11-26T21:34:33.609Z"
   },
   {
    "duration": 9,
    "start_time": "2024-11-26T21:34:33.647Z"
   },
   {
    "duration": 32,
    "start_time": "2024-11-26T21:34:33.658Z"
   },
   {
    "duration": 2,
    "start_time": "2024-11-26T21:34:33.692Z"
   },
   {
    "duration": 38,
    "start_time": "2024-11-26T21:34:33.696Z"
   },
   {
    "duration": 5,
    "start_time": "2024-11-26T21:34:33.736Z"
   },
   {
    "duration": 9,
    "start_time": "2024-11-26T21:34:33.743Z"
   },
   {
    "duration": 9,
    "start_time": "2024-11-26T21:34:33.753Z"
   },
   {
    "duration": 6,
    "start_time": "2024-11-26T21:34:33.764Z"
   },
   {
    "duration": 52,
    "start_time": "2024-11-26T21:34:33.771Z"
   },
   {
    "duration": 3,
    "start_time": "2024-11-26T21:34:33.825Z"
   },
   {
    "duration": 4,
    "start_time": "2024-11-26T21:34:33.830Z"
   },
   {
    "duration": 93,
    "start_time": "2024-11-26T21:34:33.837Z"
   },
   {
    "duration": 5,
    "start_time": "2024-11-26T21:34:33.932Z"
   },
   {
    "duration": 9,
    "start_time": "2024-11-26T21:34:33.939Z"
   },
   {
    "duration": 4,
    "start_time": "2024-11-26T21:34:33.950Z"
   },
   {
    "duration": 4,
    "start_time": "2024-11-26T21:34:33.956Z"
   },
   {
    "duration": 4,
    "start_time": "2024-11-26T21:34:33.962Z"
   },
   {
    "duration": 72,
    "start_time": "2024-11-26T21:34:33.968Z"
   },
   {
    "duration": 78,
    "start_time": "2024-11-26T21:34:34.046Z"
   },
   {
    "duration": 8,
    "start_time": "2024-11-26T21:34:34.126Z"
   },
   {
    "duration": 3,
    "start_time": "2024-11-26T21:34:34.136Z"
   },
   {
    "duration": 4,
    "start_time": "2024-11-26T21:34:34.141Z"
   },
   {
    "duration": 5,
    "start_time": "2024-11-26T21:34:34.149Z"
   },
   {
    "duration": 66,
    "start_time": "2024-11-26T21:34:34.158Z"
   },
   {
    "duration": 5,
    "start_time": "2024-11-26T21:34:34.226Z"
   },
   {
    "duration": 6,
    "start_time": "2024-11-26T21:34:34.234Z"
   },
   {
    "duration": 3,
    "start_time": "2024-11-26T21:34:34.244Z"
   },
   {
    "duration": 4,
    "start_time": "2024-11-26T21:34:34.248Z"
   },
   {
    "duration": 79,
    "start_time": "2024-11-26T21:34:34.254Z"
   },
   {
    "duration": 8,
    "start_time": "2024-11-26T21:34:34.334Z"
   },
   {
    "duration": 14,
    "start_time": "2024-11-26T21:34:34.344Z"
   },
   {
    "duration": 138,
    "start_time": "2024-11-26T21:34:34.360Z"
   },
   {
    "duration": 0,
    "start_time": "2024-11-26T21:34:34.499Z"
   },
   {
    "duration": 0,
    "start_time": "2024-11-26T21:34:34.500Z"
   },
   {
    "duration": 0,
    "start_time": "2024-11-26T21:34:34.501Z"
   },
   {
    "duration": 0,
    "start_time": "2024-11-26T21:34:34.502Z"
   },
   {
    "duration": 0,
    "start_time": "2024-11-26T21:34:34.504Z"
   },
   {
    "duration": 0,
    "start_time": "2024-11-26T21:34:34.505Z"
   },
   {
    "duration": 0,
    "start_time": "2024-11-26T21:34:34.506Z"
   },
   {
    "duration": 0,
    "start_time": "2024-11-26T21:34:34.507Z"
   },
   {
    "duration": 0,
    "start_time": "2024-11-26T21:34:34.508Z"
   },
   {
    "duration": 0,
    "start_time": "2024-11-26T21:34:34.509Z"
   },
   {
    "duration": 0,
    "start_time": "2024-11-26T21:34:34.524Z"
   },
   {
    "duration": 585,
    "start_time": "2024-11-26T21:34:52.746Z"
   },
   {
    "duration": 4,
    "start_time": "2024-11-26T21:35:09.678Z"
   },
   {
    "duration": 8,
    "start_time": "2024-11-26T21:35:24.029Z"
   },
   {
    "duration": 13,
    "start_time": "2024-11-26T21:35:33.727Z"
   },
   {
    "duration": 5,
    "start_time": "2024-11-26T21:35:38.489Z"
   },
   {
    "duration": 2,
    "start_time": "2024-11-26T21:36:06.880Z"
   },
   {
    "duration": 11,
    "start_time": "2024-11-26T21:36:07.501Z"
   },
   {
    "duration": 5,
    "start_time": "2024-11-26T21:36:07.926Z"
   },
   {
    "duration": 752,
    "start_time": "2024-11-26T21:36:13.775Z"
   },
   {
    "duration": 79,
    "start_time": "2024-11-26T21:36:14.529Z"
   },
   {
    "duration": 23,
    "start_time": "2024-11-26T21:36:14.610Z"
   },
   {
    "duration": 28,
    "start_time": "2024-11-26T21:36:14.635Z"
   },
   {
    "duration": 8,
    "start_time": "2024-11-26T21:36:14.666Z"
   },
   {
    "duration": 55,
    "start_time": "2024-11-26T21:36:14.676Z"
   },
   {
    "duration": 71,
    "start_time": "2024-11-26T21:36:14.733Z"
   },
   {
    "duration": 19,
    "start_time": "2024-11-26T21:36:14.806Z"
   },
   {
    "duration": 25,
    "start_time": "2024-11-26T21:36:14.827Z"
   },
   {
    "duration": 9,
    "start_time": "2024-11-26T21:36:14.853Z"
   },
   {
    "duration": 30,
    "start_time": "2024-11-26T21:36:14.863Z"
   },
   {
    "duration": 96,
    "start_time": "2024-11-26T21:36:14.895Z"
   },
   {
    "duration": 12,
    "start_time": "2024-11-26T21:36:14.993Z"
   },
   {
    "duration": 33,
    "start_time": "2024-11-26T21:36:15.008Z"
   },
   {
    "duration": 9,
    "start_time": "2024-11-26T21:36:15.043Z"
   },
   {
    "duration": 32,
    "start_time": "2024-11-26T21:36:15.053Z"
   },
   {
    "duration": 2,
    "start_time": "2024-11-26T21:36:15.087Z"
   },
   {
    "duration": 41,
    "start_time": "2024-11-26T21:36:15.091Z"
   },
   {
    "duration": 4,
    "start_time": "2024-11-26T21:36:15.134Z"
   },
   {
    "duration": 8,
    "start_time": "2024-11-26T21:36:15.139Z"
   },
   {
    "duration": 7,
    "start_time": "2024-11-26T21:36:15.149Z"
   },
   {
    "duration": 10,
    "start_time": "2024-11-26T21:36:15.158Z"
   },
   {
    "duration": 53,
    "start_time": "2024-11-26T21:36:15.171Z"
   },
   {
    "duration": 3,
    "start_time": "2024-11-26T21:36:15.227Z"
   },
   {
    "duration": 3,
    "start_time": "2024-11-26T21:36:15.232Z"
   },
   {
    "duration": 89,
    "start_time": "2024-11-26T21:36:15.236Z"
   },
   {
    "duration": 6,
    "start_time": "2024-11-26T21:36:15.327Z"
   },
   {
    "duration": 10,
    "start_time": "2024-11-26T21:36:15.334Z"
   },
   {
    "duration": 5,
    "start_time": "2024-11-26T21:36:15.345Z"
   },
   {
    "duration": 3,
    "start_time": "2024-11-26T21:36:15.353Z"
   },
   {
    "duration": 3,
    "start_time": "2024-11-26T21:36:15.358Z"
   },
   {
    "duration": 71,
    "start_time": "2024-11-26T21:36:15.364Z"
   },
   {
    "duration": 7,
    "start_time": "2024-11-26T21:36:15.438Z"
   },
   {
    "duration": 7,
    "start_time": "2024-11-26T21:36:15.447Z"
   },
   {
    "duration": 69,
    "start_time": "2024-11-26T21:36:15.456Z"
   },
   {
    "duration": 4,
    "start_time": "2024-11-26T21:36:15.528Z"
   },
   {
    "duration": 5,
    "start_time": "2024-11-26T21:36:15.536Z"
   },
   {
    "duration": 80,
    "start_time": "2024-11-26T21:36:15.544Z"
   },
   {
    "duration": 4,
    "start_time": "2024-11-26T21:36:15.626Z"
   },
   {
    "duration": 4,
    "start_time": "2024-11-26T21:36:15.632Z"
   },
   {
    "duration": 3,
    "start_time": "2024-11-26T21:36:15.640Z"
   },
   {
    "duration": 14,
    "start_time": "2024-11-26T21:36:15.645Z"
   },
   {
    "duration": 8,
    "start_time": "2024-11-26T21:36:15.660Z"
   },
   {
    "duration": 55,
    "start_time": "2024-11-26T21:36:15.670Z"
   },
   {
    "duration": 132,
    "start_time": "2024-11-26T21:36:15.726Z"
   },
   {
    "duration": 0,
    "start_time": "2024-11-26T21:36:15.860Z"
   },
   {
    "duration": 0,
    "start_time": "2024-11-26T21:36:15.862Z"
   },
   {
    "duration": 0,
    "start_time": "2024-11-26T21:36:15.863Z"
   },
   {
    "duration": 0,
    "start_time": "2024-11-26T21:36:15.864Z"
   },
   {
    "duration": 0,
    "start_time": "2024-11-26T21:36:15.866Z"
   },
   {
    "duration": 0,
    "start_time": "2024-11-26T21:36:15.867Z"
   },
   {
    "duration": 0,
    "start_time": "2024-11-26T21:36:15.868Z"
   },
   {
    "duration": 0,
    "start_time": "2024-11-26T21:36:15.870Z"
   },
   {
    "duration": 0,
    "start_time": "2024-11-26T21:36:15.872Z"
   },
   {
    "duration": 0,
    "start_time": "2024-11-26T21:36:15.873Z"
   },
   {
    "duration": 0,
    "start_time": "2024-11-26T21:36:15.875Z"
   },
   {
    "duration": 102,
    "start_time": "2024-11-26T21:36:32.724Z"
   },
   {
    "duration": 3,
    "start_time": "2024-11-26T21:36:47.410Z"
   },
   {
    "duration": 5,
    "start_time": "2024-11-26T21:36:47.894Z"
   },
   {
    "duration": 5,
    "start_time": "2024-11-26T21:36:48.547Z"
   },
   {
    "duration": 5,
    "start_time": "2024-11-26T21:37:00.964Z"
   },
   {
    "duration": 15,
    "start_time": "2024-11-26T21:37:16.034Z"
   },
   {
    "duration": 2,
    "start_time": "2024-11-26T21:37:19.474Z"
   },
   {
    "duration": 3,
    "start_time": "2024-11-26T21:37:19.812Z"
   },
   {
    "duration": 429,
    "start_time": "2024-11-26T21:37:20.221Z"
   },
   {
    "duration": 6,
    "start_time": "2024-11-26T21:37:43.617Z"
   },
   {
    "duration": 5,
    "start_time": "2024-11-26T21:37:54.399Z"
   },
   {
    "duration": 6,
    "start_time": "2024-11-26T21:38:04.583Z"
   },
   {
    "duration": 5,
    "start_time": "2024-11-26T21:38:04.876Z"
   },
   {
    "duration": 4,
    "start_time": "2024-11-26T21:38:05.350Z"
   },
   {
    "duration": 4,
    "start_time": "2024-11-26T21:38:05.944Z"
   },
   {
    "duration": 2,
    "start_time": "2024-11-26T21:38:07.462Z"
   },
   {
    "duration": 2,
    "start_time": "2024-11-26T21:38:08.106Z"
   },
   {
    "duration": 432,
    "start_time": "2024-11-26T21:38:08.740Z"
   },
   {
    "duration": 3,
    "start_time": "2024-11-26T21:38:22.763Z"
   },
   {
    "duration": 155,
    "start_time": "2024-11-26T21:38:46.870Z"
   },
   {
    "duration": 2,
    "start_time": "2024-11-26T21:38:47.211Z"
   },
   {
    "duration": 753,
    "start_time": "2024-11-26T21:38:56.774Z"
   },
   {
    "duration": 83,
    "start_time": "2024-11-26T21:38:57.530Z"
   },
   {
    "duration": 22,
    "start_time": "2024-11-26T21:38:57.615Z"
   },
   {
    "duration": 29,
    "start_time": "2024-11-26T21:38:57.640Z"
   },
   {
    "duration": 9,
    "start_time": "2024-11-26T21:38:57.671Z"
   },
   {
    "duration": 50,
    "start_time": "2024-11-26T21:38:57.682Z"
   },
   {
    "duration": 76,
    "start_time": "2024-11-26T21:38:57.734Z"
   },
   {
    "duration": 19,
    "start_time": "2024-11-26T21:38:57.812Z"
   },
   {
    "duration": 26,
    "start_time": "2024-11-26T21:38:57.832Z"
   },
   {
    "duration": 9,
    "start_time": "2024-11-26T21:38:57.860Z"
   },
   {
    "duration": 31,
    "start_time": "2024-11-26T21:38:57.871Z"
   },
   {
    "duration": 75,
    "start_time": "2024-11-26T21:38:57.925Z"
   },
   {
    "duration": 11,
    "start_time": "2024-11-26T21:38:58.001Z"
   },
   {
    "duration": 27,
    "start_time": "2024-11-26T21:38:58.027Z"
   },
   {
    "duration": 9,
    "start_time": "2024-11-26T21:38:58.055Z"
   },
   {
    "duration": 34,
    "start_time": "2024-11-26T21:38:58.066Z"
   },
   {
    "duration": 24,
    "start_time": "2024-11-26T21:38:58.101Z"
   },
   {
    "duration": 15,
    "start_time": "2024-11-26T21:38:58.126Z"
   },
   {
    "duration": 4,
    "start_time": "2024-11-26T21:38:58.143Z"
   },
   {
    "duration": 9,
    "start_time": "2024-11-26T21:38:58.149Z"
   },
   {
    "duration": 10,
    "start_time": "2024-11-26T21:38:58.159Z"
   },
   {
    "duration": 57,
    "start_time": "2024-11-26T21:38:58.170Z"
   },
   {
    "duration": 11,
    "start_time": "2024-11-26T21:38:58.229Z"
   },
   {
    "duration": 3,
    "start_time": "2024-11-26T21:38:58.241Z"
   },
   {
    "duration": 3,
    "start_time": "2024-11-26T21:38:58.246Z"
   },
   {
    "duration": 83,
    "start_time": "2024-11-26T21:38:58.250Z"
   },
   {
    "duration": 5,
    "start_time": "2024-11-26T21:38:58.335Z"
   },
   {
    "duration": 8,
    "start_time": "2024-11-26T21:38:58.342Z"
   },
   {
    "duration": 5,
    "start_time": "2024-11-26T21:38:58.352Z"
   },
   {
    "duration": 3,
    "start_time": "2024-11-26T21:38:58.360Z"
   },
   {
    "duration": 2,
    "start_time": "2024-11-26T21:38:58.365Z"
   },
   {
    "duration": 16,
    "start_time": "2024-11-26T21:38:58.424Z"
   },
   {
    "duration": 5,
    "start_time": "2024-11-26T21:38:58.442Z"
   },
   {
    "duration": 8,
    "start_time": "2024-11-26T21:38:58.525Z"
   },
   {
    "duration": 4,
    "start_time": "2024-11-26T21:38:58.535Z"
   },
   {
    "duration": 3,
    "start_time": "2024-11-26T21:38:58.541Z"
   },
   {
    "duration": 2,
    "start_time": "2024-11-26T21:38:58.546Z"
   },
   {
    "duration": 3,
    "start_time": "2024-11-26T21:38:58.552Z"
   },
   {
    "duration": 72,
    "start_time": "2024-11-26T21:38:58.556Z"
   },
   {
    "duration": 4,
    "start_time": "2024-11-26T21:38:58.630Z"
   },
   {
    "duration": 5,
    "start_time": "2024-11-26T21:38:58.640Z"
   },
   {
    "duration": 15,
    "start_time": "2024-11-26T21:38:58.647Z"
   },
   {
    "duration": 61,
    "start_time": "2024-11-26T21:38:58.664Z"
   },
   {
    "duration": 15,
    "start_time": "2024-11-26T21:38:58.726Z"
   },
   {
    "duration": 3,
    "start_time": "2024-11-26T21:38:58.742Z"
   },
   {
    "duration": 5,
    "start_time": "2024-11-26T21:38:58.746Z"
   },
   {
    "duration": 4,
    "start_time": "2024-11-26T21:38:58.752Z"
   },
   {
    "duration": 5,
    "start_time": "2024-11-26T21:38:58.757Z"
   },
   {
    "duration": 3,
    "start_time": "2024-11-26T21:38:58.763Z"
   },
   {
    "duration": 3,
    "start_time": "2024-11-26T21:38:58.769Z"
   },
   {
    "duration": 3,
    "start_time": "2024-11-26T21:38:58.774Z"
   },
   {
    "duration": 46,
    "start_time": "2024-11-26T21:38:58.779Z"
   },
   {
    "duration": 410,
    "start_time": "2024-11-26T21:38:58.827Z"
   },
   {
    "duration": 3,
    "start_time": "2024-11-26T21:38:59.240Z"
   },
   {
    "duration": 331,
    "start_time": "2024-11-26T21:39:42.294Z"
   },
   {
    "duration": 15,
    "start_time": "2024-11-26T21:40:21.093Z"
   },
   {
    "duration": 3,
    "start_time": "2024-11-26T21:40:23.432Z"
   },
   {
    "duration": 397,
    "start_time": "2024-11-26T21:40:23.836Z"
   },
   {
    "duration": 2,
    "start_time": "2024-11-26T21:40:50.058Z"
   },
   {
    "duration": 37,
    "start_time": "2024-11-26T21:41:26.902Z"
   },
   {
    "duration": 2,
    "start_time": "2024-11-26T21:41:30.237Z"
   },
   {
    "duration": 404,
    "start_time": "2024-11-26T21:41:30.907Z"
   },
   {
    "duration": 3,
    "start_time": "2024-11-26T21:41:32.173Z"
   },
   {
    "duration": 2,
    "start_time": "2024-11-26T21:41:53.116Z"
   },
   {
    "duration": 398,
    "start_time": "2024-11-26T21:42:19.530Z"
   },
   {
    "duration": 3,
    "start_time": "2024-11-26T21:42:26.004Z"
   },
   {
    "duration": 3,
    "start_time": "2024-11-26T21:42:33.389Z"
   },
   {
    "duration": 832,
    "start_time": "2024-11-28T00:35:36.391Z"
   },
   {
    "duration": 106,
    "start_time": "2024-11-28T00:35:37.225Z"
   },
   {
    "duration": 14,
    "start_time": "2024-11-28T00:35:37.333Z"
   },
   {
    "duration": 31,
    "start_time": "2024-11-28T00:35:37.349Z"
   },
   {
    "duration": 24,
    "start_time": "2024-11-28T00:35:37.383Z"
   },
   {
    "duration": 38,
    "start_time": "2024-11-28T00:35:37.409Z"
   },
   {
    "duration": 93,
    "start_time": "2024-11-28T00:35:37.449Z"
   },
   {
    "duration": 11,
    "start_time": "2024-11-28T00:35:37.543Z"
   },
   {
    "duration": 25,
    "start_time": "2024-11-28T00:35:37.556Z"
   },
   {
    "duration": 23,
    "start_time": "2024-11-28T00:35:37.583Z"
   },
   {
    "duration": 31,
    "start_time": "2024-11-28T00:35:37.609Z"
   },
   {
    "duration": 96,
    "start_time": "2024-11-28T00:35:37.642Z"
   },
   {
    "duration": 12,
    "start_time": "2024-11-28T00:35:37.740Z"
   },
   {
    "duration": 27,
    "start_time": "2024-11-28T00:35:37.755Z"
   },
   {
    "duration": 26,
    "start_time": "2024-11-28T00:35:37.784Z"
   },
   {
    "duration": 32,
    "start_time": "2024-11-28T00:35:37.812Z"
   },
   {
    "duration": 2,
    "start_time": "2024-11-28T00:35:37.846Z"
   },
   {
    "duration": 4,
    "start_time": "2024-11-28T00:35:37.850Z"
   },
   {
    "duration": 2,
    "start_time": "2024-11-28T00:35:37.855Z"
   },
   {
    "duration": 5,
    "start_time": "2024-11-28T00:35:37.859Z"
   },
   {
    "duration": 0,
    "start_time": "2024-11-28T00:35:37.866Z"
   },
   {
    "duration": 0,
    "start_time": "2024-11-28T00:35:37.868Z"
   },
   {
    "duration": 0,
    "start_time": "2024-11-28T00:35:37.904Z"
   },
   {
    "duration": 0,
    "start_time": "2024-11-28T00:35:37.907Z"
   },
   {
    "duration": 0,
    "start_time": "2024-11-28T00:35:37.908Z"
   },
   {
    "duration": 0,
    "start_time": "2024-11-28T00:35:37.909Z"
   },
   {
    "duration": 0,
    "start_time": "2024-11-28T00:35:37.911Z"
   },
   {
    "duration": 0,
    "start_time": "2024-11-28T00:35:37.912Z"
   },
   {
    "duration": 0,
    "start_time": "2024-11-28T00:35:37.914Z"
   },
   {
    "duration": 0,
    "start_time": "2024-11-28T00:35:37.915Z"
   },
   {
    "duration": 0,
    "start_time": "2024-11-28T00:35:37.916Z"
   },
   {
    "duration": 0,
    "start_time": "2024-11-28T00:35:37.918Z"
   },
   {
    "duration": 0,
    "start_time": "2024-11-28T00:35:37.919Z"
   },
   {
    "duration": 0,
    "start_time": "2024-11-28T00:35:37.920Z"
   },
   {
    "duration": 1,
    "start_time": "2024-11-28T00:35:37.921Z"
   },
   {
    "duration": 0,
    "start_time": "2024-11-28T00:35:37.923Z"
   },
   {
    "duration": 0,
    "start_time": "2024-11-28T00:35:37.924Z"
   },
   {
    "duration": 0,
    "start_time": "2024-11-28T00:35:37.925Z"
   },
   {
    "duration": 0,
    "start_time": "2024-11-28T00:35:37.927Z"
   },
   {
    "duration": 0,
    "start_time": "2024-11-28T00:35:37.927Z"
   },
   {
    "duration": 0,
    "start_time": "2024-11-28T00:35:37.928Z"
   },
   {
    "duration": 0,
    "start_time": "2024-11-28T00:35:37.930Z"
   },
   {
    "duration": 0,
    "start_time": "2024-11-28T00:35:37.931Z"
   },
   {
    "duration": 0,
    "start_time": "2024-11-28T00:35:37.932Z"
   },
   {
    "duration": 0,
    "start_time": "2024-11-28T00:35:37.933Z"
   },
   {
    "duration": 0,
    "start_time": "2024-11-28T00:35:37.934Z"
   },
   {
    "duration": 0,
    "start_time": "2024-11-28T00:35:37.935Z"
   },
   {
    "duration": 0,
    "start_time": "2024-11-28T00:35:37.936Z"
   },
   {
    "duration": 0,
    "start_time": "2024-11-28T00:35:37.937Z"
   },
   {
    "duration": 0,
    "start_time": "2024-11-28T00:35:37.938Z"
   },
   {
    "duration": 0,
    "start_time": "2024-11-28T00:35:37.940Z"
   },
   {
    "duration": 0,
    "start_time": "2024-11-28T00:35:37.941Z"
   },
   {
    "duration": 0,
    "start_time": "2024-11-28T00:35:37.943Z"
   },
   {
    "duration": 0,
    "start_time": "2024-11-28T00:35:37.944Z"
   },
   {
    "duration": 0,
    "start_time": "2024-11-28T00:35:37.946Z"
   },
   {
    "duration": 0,
    "start_time": "2024-11-28T00:35:38.005Z"
   },
   {
    "duration": 0,
    "start_time": "2024-11-28T00:35:38.007Z"
   },
   {
    "duration": 1,
    "start_time": "2024-11-28T00:35:38.008Z"
   },
   {
    "duration": 0,
    "start_time": "2024-11-28T00:35:38.010Z"
   },
   {
    "duration": 0,
    "start_time": "2024-11-28T00:35:38.012Z"
   },
   {
    "duration": 0,
    "start_time": "2024-11-28T00:35:38.013Z"
   },
   {
    "duration": 0,
    "start_time": "2024-11-28T00:35:38.015Z"
   },
   {
    "duration": 3,
    "start_time": "2024-11-28T00:35:59.823Z"
   },
   {
    "duration": 3,
    "start_time": "2024-11-28T00:36:01.915Z"
   },
   {
    "duration": 2,
    "start_time": "2024-11-28T00:36:02.437Z"
   },
   {
    "duration": 3,
    "start_time": "2024-11-28T00:36:02.655Z"
   },
   {
    "duration": 2,
    "start_time": "2024-11-28T00:36:02.949Z"
   },
   {
    "duration": 26,
    "start_time": "2024-11-28T00:36:03.757Z"
   },
   {
    "duration": 4,
    "start_time": "2024-11-28T00:36:06.286Z"
   },
   {
    "duration": 3,
    "start_time": "2024-11-28T00:36:07.700Z"
   },
   {
    "duration": 18,
    "start_time": "2024-11-28T00:37:23.327Z"
   },
   {
    "duration": 3,
    "start_time": "2024-11-28T00:37:24.770Z"
   },
   {
    "duration": 3,
    "start_time": "2024-11-28T00:37:25.412Z"
   },
   {
    "duration": 4,
    "start_time": "2024-11-28T00:38:43.456Z"
   },
   {
    "duration": 3,
    "start_time": "2024-11-28T00:38:43.874Z"
   },
   {
    "duration": 36,
    "start_time": "2024-11-28T00:38:51.027Z"
   },
   {
    "duration": 4,
    "start_time": "2024-11-28T00:38:51.413Z"
   },
   {
    "duration": 3,
    "start_time": "2024-11-28T00:38:51.846Z"
   },
   {
    "duration": 3,
    "start_time": "2024-11-28T00:39:01.946Z"
   },
   {
    "duration": 3,
    "start_time": "2024-11-28T00:39:02.331Z"
   },
   {
    "duration": 22,
    "start_time": "2024-11-28T00:39:07.670Z"
   },
   {
    "duration": 4,
    "start_time": "2024-11-28T00:39:08.115Z"
   },
   {
    "duration": 4,
    "start_time": "2024-11-28T00:39:08.509Z"
   },
   {
    "duration": 798,
    "start_time": "2024-11-28T00:39:24.238Z"
   },
   {
    "duration": 84,
    "start_time": "2024-11-28T00:39:25.038Z"
   },
   {
    "duration": 12,
    "start_time": "2024-11-28T00:39:25.124Z"
   },
   {
    "duration": 29,
    "start_time": "2024-11-28T00:39:25.138Z"
   },
   {
    "duration": 9,
    "start_time": "2024-11-28T00:39:25.170Z"
   },
   {
    "duration": 59,
    "start_time": "2024-11-28T00:39:25.181Z"
   },
   {
    "duration": 86,
    "start_time": "2024-11-28T00:39:25.242Z"
   },
   {
    "duration": 13,
    "start_time": "2024-11-28T00:39:25.329Z"
   },
   {
    "duration": 26,
    "start_time": "2024-11-28T00:39:25.344Z"
   },
   {
    "duration": 9,
    "start_time": "2024-11-28T00:39:25.372Z"
   },
   {
    "duration": 32,
    "start_time": "2024-11-28T00:39:25.405Z"
   },
   {
    "duration": 103,
    "start_time": "2024-11-28T00:39:25.439Z"
   },
   {
    "duration": 62,
    "start_time": "2024-11-28T00:39:25.544Z"
   },
   {
    "duration": 32,
    "start_time": "2024-11-28T00:39:25.610Z"
   },
   {
    "duration": 68,
    "start_time": "2024-11-28T00:39:25.644Z"
   },
   {
    "duration": 96,
    "start_time": "2024-11-28T00:39:25.714Z"
   },
   {
    "duration": 3,
    "start_time": "2024-11-28T00:39:25.812Z"
   },
   {
    "duration": 5,
    "start_time": "2024-11-28T00:39:25.816Z"
   },
   {
    "duration": 3,
    "start_time": "2024-11-28T00:39:25.822Z"
   },
   {
    "duration": 3,
    "start_time": "2024-11-28T00:39:25.827Z"
   },
   {
    "duration": 3,
    "start_time": "2024-11-28T00:39:25.831Z"
   },
   {
    "duration": 2,
    "start_time": "2024-11-28T00:39:25.836Z"
   },
   {
    "duration": 3,
    "start_time": "2024-11-28T00:39:25.840Z"
   },
   {
    "duration": 2,
    "start_time": "2024-11-28T00:39:25.845Z"
   },
   {
    "duration": 32,
    "start_time": "2024-11-28T00:39:25.905Z"
   },
   {
    "duration": 66,
    "start_time": "2024-11-28T00:39:25.939Z"
   },
   {
    "duration": 4,
    "start_time": "2024-11-28T00:39:26.008Z"
   },
   {
    "duration": 3,
    "start_time": "2024-11-28T00:39:26.014Z"
   },
   {
    "duration": 2,
    "start_time": "2024-11-28T00:39:26.019Z"
   },
   {
    "duration": 2,
    "start_time": "2024-11-28T00:39:26.024Z"
   },
   {
    "duration": 76,
    "start_time": "2024-11-28T00:39:26.029Z"
   },
   {
    "duration": 21,
    "start_time": "2024-11-28T00:39:26.108Z"
   },
   {
    "duration": 3,
    "start_time": "2024-11-28T00:39:26.131Z"
   },
   {
    "duration": 3,
    "start_time": "2024-11-28T00:39:26.136Z"
   },
   {
    "duration": 3,
    "start_time": "2024-11-28T00:39:26.207Z"
   },
   {
    "duration": 3,
    "start_time": "2024-11-28T00:39:26.212Z"
   },
   {
    "duration": 2,
    "start_time": "2024-11-28T00:39:26.217Z"
   },
   {
    "duration": 2,
    "start_time": "2024-11-28T00:39:26.222Z"
   },
   {
    "duration": 3,
    "start_time": "2024-11-28T00:39:26.227Z"
   },
   {
    "duration": 433,
    "start_time": "2024-11-28T00:39:26.231Z"
   },
   {
    "duration": 0,
    "start_time": "2024-11-28T00:39:26.668Z"
   },
   {
    "duration": 0,
    "start_time": "2024-11-28T00:39:26.669Z"
   },
   {
    "duration": 0,
    "start_time": "2024-11-28T00:39:26.670Z"
   },
   {
    "duration": 0,
    "start_time": "2024-11-28T00:39:26.671Z"
   },
   {
    "duration": 0,
    "start_time": "2024-11-28T00:39:26.672Z"
   },
   {
    "duration": 0,
    "start_time": "2024-11-28T00:39:26.673Z"
   },
   {
    "duration": 0,
    "start_time": "2024-11-28T00:39:26.674Z"
   },
   {
    "duration": 0,
    "start_time": "2024-11-28T00:39:26.675Z"
   },
   {
    "duration": 0,
    "start_time": "2024-11-28T00:39:26.676Z"
   },
   {
    "duration": 0,
    "start_time": "2024-11-28T00:39:26.677Z"
   },
   {
    "duration": 0,
    "start_time": "2024-11-28T00:39:26.678Z"
   },
   {
    "duration": 0,
    "start_time": "2024-11-28T00:39:26.680Z"
   },
   {
    "duration": 0,
    "start_time": "2024-11-28T00:39:26.681Z"
   },
   {
    "duration": 0,
    "start_time": "2024-11-28T00:39:26.706Z"
   },
   {
    "duration": 0,
    "start_time": "2024-11-28T00:39:26.707Z"
   },
   {
    "duration": 0,
    "start_time": "2024-11-28T00:39:26.709Z"
   },
   {
    "duration": 0,
    "start_time": "2024-11-28T00:39:26.710Z"
   },
   {
    "duration": 0,
    "start_time": "2024-11-28T00:39:26.711Z"
   },
   {
    "duration": 0,
    "start_time": "2024-11-28T00:39:26.712Z"
   },
   {
    "duration": 0,
    "start_time": "2024-11-28T00:39:26.714Z"
   },
   {
    "duration": 0,
    "start_time": "2024-11-28T00:39:26.715Z"
   },
   {
    "duration": 0,
    "start_time": "2024-11-28T00:39:26.717Z"
   },
   {
    "duration": 0,
    "start_time": "2024-11-28T00:39:26.718Z"
   },
   {
    "duration": 0,
    "start_time": "2024-11-28T00:39:26.720Z"
   },
   {
    "duration": 0,
    "start_time": "2024-11-28T00:39:26.721Z"
   },
   {
    "duration": 13,
    "start_time": "2024-11-28T00:39:53.847Z"
   },
   {
    "duration": 13,
    "start_time": "2024-11-28T00:40:01.633Z"
   },
   {
    "duration": 25,
    "start_time": "2024-11-28T00:40:10.157Z"
   },
   {
    "duration": 13,
    "start_time": "2024-11-28T00:40:10.698Z"
   },
   {
    "duration": 24,
    "start_time": "2024-11-28T00:40:16.423Z"
   },
   {
    "duration": 4,
    "start_time": "2024-11-28T00:40:16.816Z"
   },
   {
    "duration": 2,
    "start_time": "2024-11-28T00:40:17.517Z"
   },
   {
    "duration": 26,
    "start_time": "2024-11-28T00:41:02.436Z"
   },
   {
    "duration": 3,
    "start_time": "2024-11-28T00:41:02.776Z"
   },
   {
    "duration": 3,
    "start_time": "2024-11-28T00:41:02.941Z"
   },
   {
    "duration": 14,
    "start_time": "2024-11-28T00:43:03.867Z"
   },
   {
    "duration": 3,
    "start_time": "2024-11-28T00:43:11.722Z"
   },
   {
    "duration": 3,
    "start_time": "2024-11-28T00:43:13.602Z"
   },
   {
    "duration": 4,
    "start_time": "2024-11-28T00:43:27.139Z"
   },
   {
    "duration": 3,
    "start_time": "2024-11-28T00:43:39.512Z"
   },
   {
    "duration": 4,
    "start_time": "2024-11-28T00:44:53.678Z"
   },
   {
    "duration": 12,
    "start_time": "2024-11-28T00:45:17.776Z"
   },
   {
    "duration": 1946,
    "start_time": "2024-11-28T00:45:33.337Z"
   },
   {
    "duration": 183,
    "start_time": "2024-11-28T00:45:42.308Z"
   },
   {
    "duration": 831,
    "start_time": "2024-11-28T00:45:48.656Z"
   },
   {
    "duration": 146,
    "start_time": "2024-11-28T00:46:08.351Z"
   },
   {
    "duration": 113,
    "start_time": "2024-11-28T00:46:42.048Z"
   },
   {
    "duration": 109,
    "start_time": "2024-11-28T00:47:07.879Z"
   },
   {
    "duration": 2,
    "start_time": "2024-11-28T00:48:32.035Z"
   },
   {
    "duration": 111,
    "start_time": "2024-11-28T00:48:34.341Z"
   },
   {
    "duration": 131,
    "start_time": "2024-11-28T00:48:50.865Z"
   },
   {
    "duration": 80,
    "start_time": "2024-11-28T00:48:58.743Z"
   },
   {
    "duration": 933,
    "start_time": "2024-11-28T00:49:07.097Z"
   },
   {
    "duration": 82,
    "start_time": "2024-11-28T00:49:08.032Z"
   },
   {
    "duration": 12,
    "start_time": "2024-11-28T00:49:08.116Z"
   },
   {
    "duration": 28,
    "start_time": "2024-11-28T00:49:08.131Z"
   },
   {
    "duration": 11,
    "start_time": "2024-11-28T00:49:08.161Z"
   },
   {
    "duration": 63,
    "start_time": "2024-11-28T00:49:08.174Z"
   },
   {
    "duration": 82,
    "start_time": "2024-11-28T00:49:08.239Z"
   },
   {
    "duration": 11,
    "start_time": "2024-11-28T00:49:08.323Z"
   },
   {
    "duration": 23,
    "start_time": "2024-11-28T00:49:08.336Z"
   },
   {
    "duration": 10,
    "start_time": "2024-11-28T00:49:08.362Z"
   },
   {
    "duration": 59,
    "start_time": "2024-11-28T00:49:08.373Z"
   },
   {
    "duration": 88,
    "start_time": "2024-11-28T00:49:08.434Z"
   },
   {
    "duration": 11,
    "start_time": "2024-11-28T00:49:08.524Z"
   },
   {
    "duration": 24,
    "start_time": "2024-11-28T00:49:08.537Z"
   },
   {
    "duration": 9,
    "start_time": "2024-11-28T00:49:08.563Z"
   },
   {
    "duration": 60,
    "start_time": "2024-11-28T00:49:08.574Z"
   },
   {
    "duration": 2,
    "start_time": "2024-11-28T00:49:08.636Z"
   },
   {
    "duration": 2,
    "start_time": "2024-11-28T00:49:08.640Z"
   },
   {
    "duration": 4,
    "start_time": "2024-11-28T00:49:08.644Z"
   },
   {
    "duration": 3,
    "start_time": "2024-11-28T00:49:08.649Z"
   },
   {
    "duration": 3,
    "start_time": "2024-11-28T00:49:08.653Z"
   },
   {
    "duration": 2,
    "start_time": "2024-11-28T00:49:08.657Z"
   },
   {
    "duration": 2,
    "start_time": "2024-11-28T00:49:08.661Z"
   },
   {
    "duration": 4,
    "start_time": "2024-11-28T00:49:08.664Z"
   },
   {
    "duration": 2,
    "start_time": "2024-11-28T00:49:08.706Z"
   },
   {
    "duration": 26,
    "start_time": "2024-11-28T00:49:08.710Z"
   },
   {
    "duration": 7,
    "start_time": "2024-11-28T00:49:08.737Z"
   },
   {
    "duration": 5,
    "start_time": "2024-11-28T00:49:08.808Z"
   },
   {
    "duration": 7,
    "start_time": "2024-11-28T00:49:08.814Z"
   },
   {
    "duration": 2,
    "start_time": "2024-11-28T00:49:08.823Z"
   },
   {
    "duration": 3,
    "start_time": "2024-11-28T00:49:08.827Z"
   },
   {
    "duration": 3,
    "start_time": "2024-11-28T00:49:08.906Z"
   },
   {
    "duration": 25,
    "start_time": "2024-11-28T00:49:08.911Z"
   },
   {
    "duration": 3,
    "start_time": "2024-11-28T00:49:08.938Z"
   },
   {
    "duration": 62,
    "start_time": "2024-11-28T00:49:08.943Z"
   },
   {
    "duration": 3,
    "start_time": "2024-11-28T00:49:09.007Z"
   },
   {
    "duration": 2,
    "start_time": "2024-11-28T00:49:09.011Z"
   },
   {
    "duration": 2,
    "start_time": "2024-11-28T00:49:09.015Z"
   },
   {
    "duration": 2,
    "start_time": "2024-11-28T00:49:09.019Z"
   },
   {
    "duration": 3,
    "start_time": "2024-11-28T00:49:09.022Z"
   },
   {
    "duration": 96,
    "start_time": "2024-11-28T00:49:09.026Z"
   },
   {
    "duration": 3,
    "start_time": "2024-11-28T00:49:09.124Z"
   },
   {
    "duration": 3,
    "start_time": "2024-11-28T00:49:09.130Z"
   },
   {
    "duration": 2,
    "start_time": "2024-11-28T00:49:09.135Z"
   },
   {
    "duration": 203,
    "start_time": "2024-11-28T00:49:09.206Z"
   },
   {
    "duration": 3,
    "start_time": "2024-11-28T00:49:09.411Z"
   },
   {
    "duration": 4,
    "start_time": "2024-11-28T00:49:09.417Z"
   },
   {
    "duration": 5,
    "start_time": "2024-11-28T00:49:09.422Z"
   },
   {
    "duration": 3,
    "start_time": "2024-11-28T00:49:09.429Z"
   },
   {
    "duration": 14,
    "start_time": "2024-11-28T00:49:09.434Z"
   },
   {
    "duration": 9,
    "start_time": "2024-11-28T00:49:09.450Z"
   },
   {
    "duration": 56,
    "start_time": "2024-11-28T00:49:09.461Z"
   },
   {
    "duration": 3,
    "start_time": "2024-11-28T00:49:09.519Z"
   },
   {
    "duration": 4,
    "start_time": "2024-11-28T00:49:09.523Z"
   },
   {
    "duration": 3,
    "start_time": "2024-11-28T00:49:09.529Z"
   },
   {
    "duration": 5,
    "start_time": "2024-11-28T00:49:09.534Z"
   },
   {
    "duration": 5,
    "start_time": "2024-11-28T00:49:09.540Z"
   },
   {
    "duration": 4,
    "start_time": "2024-11-28T00:49:09.546Z"
   },
   {
    "duration": 3,
    "start_time": "2024-11-28T00:49:09.552Z"
   },
   {
    "duration": 3,
    "start_time": "2024-11-28T00:49:09.557Z"
   },
   {
    "duration": 407,
    "start_time": "2024-11-28T00:49:09.605Z"
   },
   {
    "duration": 3,
    "start_time": "2024-11-28T00:49:10.014Z"
   },
   {
    "duration": 3,
    "start_time": "2024-11-28T00:49:10.019Z"
   },
   {
    "duration": 416,
    "start_time": "2024-11-28T00:49:10.024Z"
   },
   {
    "duration": 3,
    "start_time": "2024-11-28T00:49:10.442Z"
   },
   {
    "duration": 2,
    "start_time": "2024-11-28T00:49:10.447Z"
   },
   {
    "duration": 413,
    "start_time": "2024-11-28T00:49:10.451Z"
   },
   {
    "duration": 4,
    "start_time": "2024-11-28T00:49:10.866Z"
   },
   {
    "duration": 4,
    "start_time": "2024-11-28T00:57:26.084Z"
   },
   {
    "duration": 3,
    "start_time": "2024-11-28T00:57:26.650Z"
   },
   {
    "duration": 393,
    "start_time": "2024-11-28T00:57:29.545Z"
   },
   {
    "duration": 403,
    "start_time": "2024-11-28T00:57:31.337Z"
   },
   {
    "duration": 3,
    "start_time": "2024-11-28T00:57:32.384Z"
   },
   {
    "duration": 3,
    "start_time": "2024-11-28T00:57:43.038Z"
   },
   {
    "duration": 241,
    "start_time": "2024-11-28T00:58:04.877Z"
   },
   {
    "duration": 3,
    "start_time": "2024-11-28T00:58:13.533Z"
   },
   {
    "duration": 403,
    "start_time": "2024-11-28T00:58:14.084Z"
   },
   {
    "duration": 3,
    "start_time": "2024-11-28T00:58:14.834Z"
   },
   {
    "duration": 395,
    "start_time": "2024-11-28T00:58:45.963Z"
   },
   {
    "duration": 3,
    "start_time": "2024-11-28T00:58:46.852Z"
   },
   {
    "duration": 401,
    "start_time": "2024-11-28T00:59:10.932Z"
   },
   {
    "duration": 3,
    "start_time": "2024-11-28T00:59:11.336Z"
   },
   {
    "duration": 2,
    "start_time": "2024-11-28T01:01:43.231Z"
   },
   {
    "duration": 539,
    "start_time": "2024-11-28T01:02:07.299Z"
   },
   {
    "duration": 16,
    "start_time": "2024-11-28T01:02:21.516Z"
   },
   {
    "duration": 2,
    "start_time": "2024-11-28T01:02:23.896Z"
   },
   {
    "duration": 93,
    "start_time": "2024-11-28T01:02:24.347Z"
   },
   {
    "duration": 2,
    "start_time": "2024-11-28T01:02:38.553Z"
   },
   {
    "duration": 113,
    "start_time": "2024-11-28T01:02:39.118Z"
   },
   {
    "duration": 2,
    "start_time": "2024-11-28T01:03:00.261Z"
   },
   {
    "duration": 86,
    "start_time": "2024-11-28T01:03:00.583Z"
   },
   {
    "duration": 935,
    "start_time": "2024-11-28T01:03:54.627Z"
   },
   {
    "duration": 78,
    "start_time": "2024-11-28T01:03:55.565Z"
   },
   {
    "duration": 12,
    "start_time": "2024-11-28T01:03:55.645Z"
   },
   {
    "duration": 27,
    "start_time": "2024-11-28T01:03:55.659Z"
   },
   {
    "duration": 10,
    "start_time": "2024-11-28T01:03:55.705Z"
   },
   {
    "duration": 35,
    "start_time": "2024-11-28T01:03:55.717Z"
   },
   {
    "duration": 92,
    "start_time": "2024-11-28T01:03:55.753Z"
   },
   {
    "duration": 12,
    "start_time": "2024-11-28T01:03:55.846Z"
   },
   {
    "duration": 26,
    "start_time": "2024-11-28T01:03:55.860Z"
   },
   {
    "duration": 25,
    "start_time": "2024-11-28T01:03:55.888Z"
   },
   {
    "duration": 33,
    "start_time": "2024-11-28T01:03:55.916Z"
   },
   {
    "duration": 97,
    "start_time": "2024-11-28T01:03:55.951Z"
   },
   {
    "duration": 12,
    "start_time": "2024-11-28T01:03:56.049Z"
   },
   {
    "duration": 24,
    "start_time": "2024-11-28T01:03:56.065Z"
   },
   {
    "duration": 11,
    "start_time": "2024-11-28T01:03:56.105Z"
   },
   {
    "duration": 34,
    "start_time": "2024-11-28T01:03:56.118Z"
   },
   {
    "duration": 3,
    "start_time": "2024-11-28T01:03:56.154Z"
   },
   {
    "duration": 3,
    "start_time": "2024-11-28T01:03:56.158Z"
   },
   {
    "duration": 4,
    "start_time": "2024-11-28T01:03:56.162Z"
   },
   {
    "duration": 2,
    "start_time": "2024-11-28T01:03:56.168Z"
   },
   {
    "duration": 3,
    "start_time": "2024-11-28T01:03:56.171Z"
   },
   {
    "duration": 2,
    "start_time": "2024-11-28T01:03:56.206Z"
   },
   {
    "duration": 3,
    "start_time": "2024-11-28T01:03:56.209Z"
   },
   {
    "duration": 3,
    "start_time": "2024-11-28T01:03:56.213Z"
   },
   {
    "duration": 3,
    "start_time": "2024-11-28T01:03:56.218Z"
   },
   {
    "duration": 26,
    "start_time": "2024-11-28T01:03:56.223Z"
   },
   {
    "duration": 55,
    "start_time": "2024-11-28T01:03:56.251Z"
   },
   {
    "duration": 4,
    "start_time": "2024-11-28T01:03:56.308Z"
   },
   {
    "duration": 102,
    "start_time": "2024-11-28T01:03:56.313Z"
   },
   {
    "duration": 3,
    "start_time": "2024-11-28T01:03:56.417Z"
   },
   {
    "duration": 3,
    "start_time": "2024-11-28T01:03:56.423Z"
   },
   {
    "duration": 97,
    "start_time": "2024-11-28T01:03:56.429Z"
   },
   {
    "duration": 4,
    "start_time": "2024-11-28T01:03:56.528Z"
   },
   {
    "duration": 72,
    "start_time": "2024-11-28T01:03:56.534Z"
   },
   {
    "duration": 3,
    "start_time": "2024-11-28T01:03:56.608Z"
   },
   {
    "duration": 235,
    "start_time": "2024-11-28T01:03:56.613Z"
   },
   {
    "duration": 4,
    "start_time": "2024-11-28T01:03:56.851Z"
   },
   {
    "duration": 4,
    "start_time": "2024-11-28T01:03:56.857Z"
   },
   {
    "duration": 4,
    "start_time": "2024-11-28T01:03:56.863Z"
   },
   {
    "duration": 4,
    "start_time": "2024-11-28T01:03:56.868Z"
   },
   {
    "duration": 15,
    "start_time": "2024-11-28T01:03:56.905Z"
   },
   {
    "duration": 9,
    "start_time": "2024-11-28T01:03:56.922Z"
   },
   {
    "duration": 15,
    "start_time": "2024-11-28T01:03:56.933Z"
   },
   {
    "duration": 2,
    "start_time": "2024-11-28T01:03:56.950Z"
   },
   {
    "duration": 9,
    "start_time": "2024-11-28T01:03:56.954Z"
   },
   {
    "duration": 3,
    "start_time": "2024-11-28T01:03:56.965Z"
   },
   {
    "duration": 35,
    "start_time": "2024-11-28T01:03:56.970Z"
   },
   {
    "duration": 4,
    "start_time": "2024-11-28T01:03:57.007Z"
   },
   {
    "duration": 4,
    "start_time": "2024-11-28T01:03:57.012Z"
   },
   {
    "duration": 3,
    "start_time": "2024-11-28T01:03:57.018Z"
   },
   {
    "duration": 123,
    "start_time": "2024-11-28T01:03:57.023Z"
   },
   {
    "duration": 3,
    "start_time": "2024-11-28T01:03:57.148Z"
   },
   {
    "duration": 428,
    "start_time": "2024-11-28T01:03:57.153Z"
   },
   {
    "duration": 2,
    "start_time": "2024-11-28T01:03:57.583Z"
   },
   {
    "duration": 418,
    "start_time": "2024-11-28T01:03:57.587Z"
   },
   {
    "duration": 2,
    "start_time": "2024-11-28T01:03:58.007Z"
   },
   {
    "duration": 412,
    "start_time": "2024-11-28T01:03:58.011Z"
   },
   {
    "duration": 3,
    "start_time": "2024-11-28T01:03:58.424Z"
   },
   {
    "duration": 894,
    "start_time": "2024-11-28T01:05:24.764Z"
   },
   {
    "duration": 85,
    "start_time": "2024-11-28T01:05:25.660Z"
   },
   {
    "duration": 12,
    "start_time": "2024-11-28T01:05:25.747Z"
   },
   {
    "duration": 27,
    "start_time": "2024-11-28T01:05:25.761Z"
   },
   {
    "duration": 10,
    "start_time": "2024-11-28T01:05:25.806Z"
   },
   {
    "duration": 38,
    "start_time": "2024-11-28T01:05:25.817Z"
   },
   {
    "duration": 95,
    "start_time": "2024-11-28T01:05:25.857Z"
   },
   {
    "duration": 11,
    "start_time": "2024-11-28T01:05:25.954Z"
   },
   {
    "duration": 37,
    "start_time": "2024-11-28T01:05:25.967Z"
   },
   {
    "duration": 13,
    "start_time": "2024-11-28T01:05:26.009Z"
   },
   {
    "duration": 35,
    "start_time": "2024-11-28T01:05:26.024Z"
   },
   {
    "duration": 95,
    "start_time": "2024-11-28T01:05:26.061Z"
   },
   {
    "duration": 12,
    "start_time": "2024-11-28T01:05:26.157Z"
   },
   {
    "duration": 36,
    "start_time": "2024-11-28T01:05:26.172Z"
   },
   {
    "duration": 11,
    "start_time": "2024-11-28T01:05:26.210Z"
   },
   {
    "duration": 36,
    "start_time": "2024-11-28T01:05:26.223Z"
   },
   {
    "duration": 3,
    "start_time": "2024-11-28T01:05:26.261Z"
   },
   {
    "duration": 2,
    "start_time": "2024-11-28T01:05:26.266Z"
   },
   {
    "duration": 4,
    "start_time": "2024-11-28T01:05:26.269Z"
   },
   {
    "duration": 31,
    "start_time": "2024-11-28T01:05:26.274Z"
   },
   {
    "duration": 3,
    "start_time": "2024-11-28T01:05:26.307Z"
   },
   {
    "duration": 2,
    "start_time": "2024-11-28T01:05:26.313Z"
   },
   {
    "duration": 2,
    "start_time": "2024-11-28T01:05:26.317Z"
   },
   {
    "duration": 2,
    "start_time": "2024-11-28T01:05:26.321Z"
   },
   {
    "duration": 2,
    "start_time": "2024-11-28T01:05:26.325Z"
   },
   {
    "duration": 23,
    "start_time": "2024-11-28T01:05:26.330Z"
   },
   {
    "duration": 51,
    "start_time": "2024-11-28T01:05:26.356Z"
   },
   {
    "duration": 4,
    "start_time": "2024-11-28T01:05:26.413Z"
   },
   {
    "duration": 95,
    "start_time": "2024-11-28T01:05:26.420Z"
   },
   {
    "duration": 3,
    "start_time": "2024-11-28T01:05:26.517Z"
   },
   {
    "duration": 3,
    "start_time": "2024-11-28T01:05:26.522Z"
   },
   {
    "duration": 99,
    "start_time": "2024-11-28T01:05:26.527Z"
   },
   {
    "duration": 5,
    "start_time": "2024-11-28T01:05:26.628Z"
   },
   {
    "duration": 72,
    "start_time": "2024-11-28T01:05:26.635Z"
   },
   {
    "duration": 3,
    "start_time": "2024-11-28T01:05:26.712Z"
   },
   {
    "duration": 208,
    "start_time": "2024-11-28T01:05:26.717Z"
   },
   {
    "duration": 2,
    "start_time": "2024-11-28T01:05:26.927Z"
   },
   {
    "duration": 5,
    "start_time": "2024-11-28T01:05:26.931Z"
   },
   {
    "duration": 5,
    "start_time": "2024-11-28T01:05:26.938Z"
   },
   {
    "duration": 4,
    "start_time": "2024-11-28T01:05:26.945Z"
   },
   {
    "duration": 15,
    "start_time": "2024-11-28T01:05:26.951Z"
   },
   {
    "duration": 46,
    "start_time": "2024-11-28T01:05:26.967Z"
   },
   {
    "duration": 15,
    "start_time": "2024-11-28T01:05:27.015Z"
   },
   {
    "duration": 3,
    "start_time": "2024-11-28T01:05:27.031Z"
   },
   {
    "duration": 4,
    "start_time": "2024-11-28T01:05:27.035Z"
   },
   {
    "duration": 6,
    "start_time": "2024-11-28T01:05:27.042Z"
   },
   {
    "duration": 6,
    "start_time": "2024-11-28T01:05:27.050Z"
   },
   {
    "duration": 5,
    "start_time": "2024-11-28T01:05:27.057Z"
   },
   {
    "duration": 42,
    "start_time": "2024-11-28T01:05:27.063Z"
   },
   {
    "duration": 3,
    "start_time": "2024-11-28T01:05:27.107Z"
   },
   {
    "duration": 98,
    "start_time": "2024-11-28T01:05:27.112Z"
   },
   {
    "duration": 4,
    "start_time": "2024-11-28T01:05:27.211Z"
   },
   {
    "duration": 433,
    "start_time": "2024-11-28T01:05:27.217Z"
   },
   {
    "duration": 4,
    "start_time": "2024-11-28T01:05:27.651Z"
   },
   {
    "duration": 2,
    "start_time": "2024-11-28T01:05:27.657Z"
   },
   {
    "duration": 417,
    "start_time": "2024-11-28T01:05:27.661Z"
   },
   {
    "duration": 2,
    "start_time": "2024-11-28T01:05:28.080Z"
   },
   {
    "duration": 2,
    "start_time": "2024-11-28T01:05:28.084Z"
   },
   {
    "duration": 427,
    "start_time": "2024-11-28T01:05:28.088Z"
   },
   {
    "duration": 3,
    "start_time": "2024-11-28T01:05:28.517Z"
   },
   {
    "duration": 3,
    "start_time": "2024-11-28T01:05:28.522Z"
   },
   {
    "duration": 90,
    "start_time": "2024-11-28T01:06:10.244Z"
   },
   {
    "duration": 230,
    "start_time": "2024-11-28T01:06:53.975Z"
   },
   {
    "duration": 111,
    "start_time": "2024-11-28T01:06:58.799Z"
   },
   {
    "duration": 106,
    "start_time": "2024-11-28T01:07:03.710Z"
   },
   {
    "duration": 107,
    "start_time": "2024-11-28T01:07:11.367Z"
   },
   {
    "duration": 94,
    "start_time": "2024-11-28T01:07:15.764Z"
   },
   {
    "duration": 2,
    "start_time": "2024-11-28T01:13:43.922Z"
   },
   {
    "duration": 3,
    "start_time": "2024-11-28T01:14:10.370Z"
   },
   {
    "duration": 2,
    "start_time": "2024-11-28T01:14:18.425Z"
   },
   {
    "duration": 2,
    "start_time": "2024-11-28T01:14:25.112Z"
   },
   {
    "duration": 3,
    "start_time": "2024-11-28T01:15:31.773Z"
   },
   {
    "duration": 566,
    "start_time": "2024-11-28T01:15:54.923Z"
   },
   {
    "duration": 105,
    "start_time": "2024-11-28T01:20:06.835Z"
   },
   {
    "duration": 14,
    "start_time": "2024-11-28T01:20:10.474Z"
   },
   {
    "duration": 3,
    "start_time": "2024-11-28T01:20:26.375Z"
   },
   {
    "duration": 4,
    "start_time": "2024-11-28T01:21:26.750Z"
   },
   {
    "duration": 13,
    "start_time": "2024-11-28T01:23:01.654Z"
   },
   {
    "duration": 3,
    "start_time": "2024-11-28T01:23:03.537Z"
   },
   {
    "duration": 3,
    "start_time": "2024-11-28T01:23:03.718Z"
   },
   {
    "duration": 3,
    "start_time": "2024-11-28T01:23:05.296Z"
   },
   {
    "duration": 131,
    "start_time": "2024-11-28T01:23:12.348Z"
   },
   {
    "duration": 2,
    "start_time": "2024-11-28T01:23:23.321Z"
   },
   {
    "duration": 4,
    "start_time": "2024-11-28T01:23:46.036Z"
   },
   {
    "duration": 159,
    "start_time": "2024-11-28T18:23:56.078Z"
   },
   {
    "duration": 2711,
    "start_time": "2024-11-28T18:24:00.812Z"
   },
   {
    "duration": 108,
    "start_time": "2024-11-28T18:24:03.526Z"
   },
   {
    "duration": 13,
    "start_time": "2024-11-28T18:24:03.635Z"
   },
   {
    "duration": 39,
    "start_time": "2024-11-28T18:24:03.649Z"
   },
   {
    "duration": 10,
    "start_time": "2024-11-28T18:24:03.693Z"
   },
   {
    "duration": 34,
    "start_time": "2024-11-28T18:24:03.704Z"
   },
   {
    "duration": 95,
    "start_time": "2024-11-28T18:24:03.740Z"
   },
   {
    "duration": 11,
    "start_time": "2024-11-28T18:24:03.837Z"
   },
   {
    "duration": 24,
    "start_time": "2024-11-28T18:24:03.850Z"
   },
   {
    "duration": 10,
    "start_time": "2024-11-28T18:24:03.886Z"
   },
   {
    "duration": 31,
    "start_time": "2024-11-28T18:24:03.898Z"
   },
   {
    "duration": 116,
    "start_time": "2024-11-28T18:24:03.931Z"
   },
   {
    "duration": 13,
    "start_time": "2024-11-28T18:24:04.048Z"
   },
   {
    "duration": 36,
    "start_time": "2024-11-28T18:24:04.065Z"
   },
   {
    "duration": 10,
    "start_time": "2024-11-28T18:24:04.102Z"
   },
   {
    "duration": 34,
    "start_time": "2024-11-28T18:24:04.113Z"
   },
   {
    "duration": 2,
    "start_time": "2024-11-28T18:24:04.149Z"
   },
   {
    "duration": 3,
    "start_time": "2024-11-28T18:24:04.152Z"
   },
   {
    "duration": 34,
    "start_time": "2024-11-28T18:24:04.156Z"
   },
   {
    "duration": 2,
    "start_time": "2024-11-28T18:24:04.191Z"
   },
   {
    "duration": 3,
    "start_time": "2024-11-28T18:24:04.195Z"
   },
   {
    "duration": 3,
    "start_time": "2024-11-28T18:24:04.199Z"
   },
   {
    "duration": 2,
    "start_time": "2024-11-28T18:24:04.203Z"
   },
   {
    "duration": 2,
    "start_time": "2024-11-28T18:24:04.207Z"
   },
   {
    "duration": 4,
    "start_time": "2024-11-28T18:24:04.211Z"
   },
   {
    "duration": 75,
    "start_time": "2024-11-28T18:24:04.217Z"
   },
   {
    "duration": 4,
    "start_time": "2024-11-28T18:24:04.295Z"
   },
   {
    "duration": 3,
    "start_time": "2024-11-28T18:24:04.300Z"
   },
   {
    "duration": 98,
    "start_time": "2024-11-28T18:24:04.305Z"
   },
   {
    "duration": 3,
    "start_time": "2024-11-28T18:24:04.405Z"
   },
   {
    "duration": 8,
    "start_time": "2024-11-28T18:24:04.410Z"
   },
   {
    "duration": 25,
    "start_time": "2024-11-28T18:24:04.489Z"
   },
   {
    "duration": 72,
    "start_time": "2024-11-28T18:24:04.518Z"
   },
   {
    "duration": 5,
    "start_time": "2024-11-28T18:24:04.596Z"
   },
   {
    "duration": 3,
    "start_time": "2024-11-28T18:24:04.606Z"
   },
   {
    "duration": 160,
    "start_time": "2024-11-28T18:24:04.612Z"
   },
   {
    "duration": 13,
    "start_time": "2024-11-28T18:24:04.774Z"
   },
   {
    "duration": 5,
    "start_time": "2024-11-28T18:24:04.789Z"
   },
   {
    "duration": 4,
    "start_time": "2024-11-28T18:24:04.795Z"
   },
   {
    "duration": 4,
    "start_time": "2024-11-28T18:24:04.800Z"
   },
   {
    "duration": 14,
    "start_time": "2024-11-28T18:24:04.809Z"
   },
   {
    "duration": 9,
    "start_time": "2024-11-28T18:24:04.825Z"
   },
   {
    "duration": 51,
    "start_time": "2024-11-28T18:24:04.836Z"
   },
   {
    "duration": 2,
    "start_time": "2024-11-28T18:24:04.889Z"
   },
   {
    "duration": 3,
    "start_time": "2024-11-28T18:24:04.893Z"
   },
   {
    "duration": 3,
    "start_time": "2024-11-28T18:24:04.899Z"
   },
   {
    "duration": 4,
    "start_time": "2024-11-28T18:24:04.904Z"
   },
   {
    "duration": 3,
    "start_time": "2024-11-28T18:24:04.910Z"
   },
   {
    "duration": 4,
    "start_time": "2024-11-28T18:24:04.915Z"
   },
   {
    "duration": 3,
    "start_time": "2024-11-28T18:24:04.920Z"
   },
   {
    "duration": 126,
    "start_time": "2024-11-28T18:24:04.924Z"
   },
   {
    "duration": 3,
    "start_time": "2024-11-28T18:24:05.052Z"
   },
   {
    "duration": 429,
    "start_time": "2024-11-28T18:24:05.058Z"
   },
   {
    "duration": 3,
    "start_time": "2024-11-28T18:24:05.488Z"
   },
   {
    "duration": 3,
    "start_time": "2024-11-28T18:24:05.493Z"
   },
   {
    "duration": 4,
    "start_time": "2024-11-28T18:24:05.498Z"
   },
   {
    "duration": 2,
    "start_time": "2024-11-28T18:24:05.504Z"
   },
   {
    "duration": 418,
    "start_time": "2024-11-28T18:24:05.508Z"
   },
   {
    "duration": 4,
    "start_time": "2024-11-28T18:24:05.927Z"
   },
   {
    "duration": 3,
    "start_time": "2024-11-28T18:24:05.932Z"
   },
   {
    "duration": 2,
    "start_time": "2024-11-28T18:24:05.937Z"
   },
   {
    "duration": 416,
    "start_time": "2024-11-28T18:24:05.941Z"
   },
   {
    "duration": 3,
    "start_time": "2024-11-28T18:24:06.359Z"
   },
   {
    "duration": 3,
    "start_time": "2024-11-28T18:24:06.364Z"
   },
   {
    "duration": 3,
    "start_time": "2024-11-28T18:24:06.368Z"
   },
   {
    "duration": 3,
    "start_time": "2024-11-28T18:24:06.387Z"
   },
   {
    "duration": 4,
    "start_time": "2024-11-28T18:24:06.391Z"
   },
   {
    "duration": 3,
    "start_time": "2024-11-28T18:24:06.396Z"
   },
   {
    "duration": 3,
    "start_time": "2024-11-28T18:24:06.401Z"
   },
   {
    "duration": 137,
    "start_time": "2024-11-28T18:24:06.405Z"
   },
   {
    "duration": 5,
    "start_time": "2024-11-28T18:28:06.867Z"
   },
   {
    "duration": 2,
    "start_time": "2024-11-28T18:28:08.024Z"
   },
   {
    "duration": 3,
    "start_time": "2024-11-28T18:28:08.310Z"
   },
   {
    "duration": 96,
    "start_time": "2024-11-28T18:28:08.565Z"
   },
   {
    "duration": 871,
    "start_time": "2024-11-28T18:28:17.049Z"
   },
   {
    "duration": 81,
    "start_time": "2024-11-28T18:28:17.923Z"
   },
   {
    "duration": 12,
    "start_time": "2024-11-28T18:28:18.005Z"
   },
   {
    "duration": 26,
    "start_time": "2024-11-28T18:28:18.018Z"
   },
   {
    "duration": 9,
    "start_time": "2024-11-28T18:28:18.047Z"
   },
   {
    "duration": 54,
    "start_time": "2024-11-28T18:28:18.057Z"
   },
   {
    "duration": 86,
    "start_time": "2024-11-28T18:28:18.112Z"
   },
   {
    "duration": 12,
    "start_time": "2024-11-28T18:28:18.200Z"
   },
   {
    "duration": 24,
    "start_time": "2024-11-28T18:28:18.213Z"
   },
   {
    "duration": 9,
    "start_time": "2024-11-28T18:28:18.239Z"
   },
   {
    "duration": 55,
    "start_time": "2024-11-28T18:28:18.250Z"
   },
   {
    "duration": 80,
    "start_time": "2024-11-28T18:28:18.307Z"
   },
   {
    "duration": 10,
    "start_time": "2024-11-28T18:28:18.389Z"
   },
   {
    "duration": 24,
    "start_time": "2024-11-28T18:28:18.402Z"
   },
   {
    "duration": 9,
    "start_time": "2024-11-28T18:28:18.427Z"
   },
   {
    "duration": 54,
    "start_time": "2024-11-28T18:28:18.437Z"
   },
   {
    "duration": 3,
    "start_time": "2024-11-28T18:28:18.492Z"
   },
   {
    "duration": 3,
    "start_time": "2024-11-28T18:28:18.496Z"
   },
   {
    "duration": 4,
    "start_time": "2024-11-28T18:28:18.501Z"
   },
   {
    "duration": 3,
    "start_time": "2024-11-28T18:28:18.506Z"
   },
   {
    "duration": 2,
    "start_time": "2024-11-28T18:28:18.512Z"
   },
   {
    "duration": 2,
    "start_time": "2024-11-28T18:28:18.516Z"
   },
   {
    "duration": 3,
    "start_time": "2024-11-28T18:28:18.520Z"
   },
   {
    "duration": 3,
    "start_time": "2024-11-28T18:28:18.525Z"
   },
   {
    "duration": 3,
    "start_time": "2024-11-28T18:28:18.529Z"
   },
   {
    "duration": 63,
    "start_time": "2024-11-28T18:28:18.534Z"
   },
   {
    "duration": 4,
    "start_time": "2024-11-28T18:28:18.598Z"
   },
   {
    "duration": 3,
    "start_time": "2024-11-28T18:28:18.603Z"
   },
   {
    "duration": 95,
    "start_time": "2024-11-28T18:28:18.607Z"
   },
   {
    "duration": 5,
    "start_time": "2024-11-28T18:28:18.706Z"
   },
   {
    "duration": 5,
    "start_time": "2024-11-28T18:28:18.789Z"
   },
   {
    "duration": 23,
    "start_time": "2024-11-28T18:28:18.799Z"
   },
   {
    "duration": 63,
    "start_time": "2024-11-28T18:28:18.826Z"
   },
   {
    "duration": 6,
    "start_time": "2024-11-28T18:28:18.893Z"
   },
   {
    "duration": 5,
    "start_time": "2024-11-28T18:28:18.902Z"
   },
   {
    "duration": 216,
    "start_time": "2024-11-28T18:28:18.910Z"
   },
   {
    "duration": 3,
    "start_time": "2024-11-28T18:28:19.127Z"
   },
   {
    "duration": 4,
    "start_time": "2024-11-28T18:28:19.132Z"
   },
   {
    "duration": 5,
    "start_time": "2024-11-28T18:28:19.138Z"
   },
   {
    "duration": 4,
    "start_time": "2024-11-28T18:28:19.145Z"
   },
   {
    "duration": 38,
    "start_time": "2024-11-28T18:28:19.153Z"
   },
   {
    "duration": 9,
    "start_time": "2024-11-28T18:28:19.192Z"
   },
   {
    "duration": 14,
    "start_time": "2024-11-28T18:28:19.203Z"
   },
   {
    "duration": 2,
    "start_time": "2024-11-28T18:28:19.219Z"
   },
   {
    "duration": 4,
    "start_time": "2024-11-28T18:28:19.223Z"
   },
   {
    "duration": 3,
    "start_time": "2024-11-28T18:28:19.229Z"
   },
   {
    "duration": 4,
    "start_time": "2024-11-28T18:28:19.234Z"
   },
   {
    "duration": 3,
    "start_time": "2024-11-28T18:28:19.240Z"
   },
   {
    "duration": 42,
    "start_time": "2024-11-28T18:28:19.246Z"
   },
   {
    "duration": 3,
    "start_time": "2024-11-28T18:28:19.290Z"
   },
   {
    "duration": 103,
    "start_time": "2024-11-28T18:28:19.295Z"
   },
   {
    "duration": 3,
    "start_time": "2024-11-28T18:28:19.400Z"
   },
   {
    "duration": 406,
    "start_time": "2024-11-28T18:28:19.405Z"
   },
   {
    "duration": 3,
    "start_time": "2024-11-28T18:28:19.813Z"
   },
   {
    "duration": 3,
    "start_time": "2024-11-28T18:28:19.818Z"
   },
   {
    "duration": 3,
    "start_time": "2024-11-28T18:28:19.823Z"
   },
   {
    "duration": 3,
    "start_time": "2024-11-28T18:28:19.828Z"
   },
   {
    "duration": 445,
    "start_time": "2024-11-28T18:28:19.833Z"
   },
   {
    "duration": 3,
    "start_time": "2024-11-28T18:28:20.279Z"
   },
   {
    "duration": 7,
    "start_time": "2024-11-28T18:28:20.284Z"
   },
   {
    "duration": 2,
    "start_time": "2024-11-28T18:28:20.292Z"
   },
   {
    "duration": 406,
    "start_time": "2024-11-28T18:28:20.296Z"
   },
   {
    "duration": 2,
    "start_time": "2024-11-28T18:28:20.704Z"
   },
   {
    "duration": 3,
    "start_time": "2024-11-28T18:28:20.708Z"
   },
   {
    "duration": 2,
    "start_time": "2024-11-28T18:28:20.713Z"
   },
   {
    "duration": 3,
    "start_time": "2024-11-28T18:28:20.717Z"
   },
   {
    "duration": 3,
    "start_time": "2024-11-28T18:28:20.722Z"
   },
   {
    "duration": 0,
    "start_time": "2024-11-28T18:28:20.727Z"
   },
   {
    "duration": 0,
    "start_time": "2024-11-28T18:28:20.730Z"
   },
   {
    "duration": 0,
    "start_time": "2024-11-28T18:28:20.731Z"
   },
   {
    "duration": 2,
    "start_time": "2024-11-28T18:28:29.396Z"
   },
   {
    "duration": 2,
    "start_time": "2024-11-28T18:28:30.088Z"
   },
   {
    "duration": 3,
    "start_time": "2024-11-28T18:28:30.285Z"
   },
   {
    "duration": 109,
    "start_time": "2024-11-28T18:28:30.478Z"
   },
   {
    "duration": 103,
    "start_time": "2024-11-28T18:29:41.628Z"
   },
   {
    "duration": 332,
    "start_time": "2024-11-28T18:29:55.712Z"
   },
   {
    "duration": 110,
    "start_time": "2024-11-28T18:30:00.542Z"
   },
   {
    "duration": 104,
    "start_time": "2024-11-28T18:30:09.596Z"
   },
   {
    "duration": 109,
    "start_time": "2024-11-28T18:31:11.155Z"
   }
  ],
  "kernelspec": {
   "display_name": "Python 3 (ipykernel)",
   "language": "python",
   "name": "python3"
  },
  "language_info": {
   "codemirror_mode": {
    "name": "ipython",
    "version": 3
   },
   "file_extension": ".py",
   "mimetype": "text/x-python",
   "name": "python",
   "nbconvert_exporter": "python",
   "pygments_lexer": "ipython3",
   "version": "3.9.19"
  },
  "toc": {
   "base_numbering": 1,
   "nav_menu": {},
   "number_sections": true,
   "sideBar": true,
   "skip_h1_title": true,
   "title_cell": "Table of Contents",
   "title_sidebar": "Contents",
   "toc_cell": false,
   "toc_position": {
    "height": "calc(100% - 180px)",
    "left": "10px",
    "top": "150px",
    "width": "243.797px"
   },
   "toc_section_display": true,
   "toc_window_display": true
  }
 },
 "nbformat": 4,
 "nbformat_minor": 2
}
